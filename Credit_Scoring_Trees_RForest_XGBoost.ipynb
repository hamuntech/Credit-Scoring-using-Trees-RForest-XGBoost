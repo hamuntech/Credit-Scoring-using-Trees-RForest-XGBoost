{
  "nbformat": 4,
  "nbformat_minor": 0,
  "metadata": {
    "colab": {
      "name": "Credit Scoring - Trees RForest XGBoost.ipynb",
      "provenance": [],
      "collapsed_sections": [],
      "authorship_tag": "ABX9TyNH5tI+ePno9eOYNr4FJHgO",
      "include_colab_link": true
    },
    "kernelspec": {
      "name": "python3",
      "display_name": "Python 3"
    },
    "language_info": {
      "name": "python"
    }
  },
  "cells": [
    {
      "cell_type": "markdown",
      "metadata": {
        "id": "view-in-github",
        "colab_type": "text"
      },
      "source": [
        "<a href=\"https://colab.research.google.com/github/hamuntech/Credit-Scoring-using-Trees-RForest-XGBoost/blob/main/Credit_Scoring_Trees_RForest_XGBoost.ipynb\" target=\"_parent\"><img src=\"https://colab.research.google.com/assets/colab-badge.svg\" alt=\"Open In Colab\"/></a>"
      ]
    },
    {
      "cell_type": "code",
      "metadata": {
        "id": "hC3Az3fbBWjT"
      },
      "source": [
        "#This is a binary classification problem. The target is positive (“1”) if the customer defaults and negative (“0”) otherwise.\n",
        "import pandas as pd\n",
        "import numpy as np\n",
        "\n",
        "import seaborn as sns\n",
        "from matplotlib import pyplot as plt\n",
        "%matplotlib inline"
      ],
      "execution_count": null,
      "outputs": []
    },
    {
      "cell_type": "markdown",
      "metadata": {
        "id": "-h13F6LoFGwv"
      },
      "source": [
        "**Data preparation**"
      ]
    },
    {
      "cell_type": "code",
      "metadata": {
        "id": "3ONpaauMFK9Q"
      },
      "source": [
        "df = pd.read_csv('CreditScoring.csv')"
      ],
      "execution_count": null,
      "outputs": []
    },
    {
      "cell_type": "code",
      "metadata": {
        "colab": {
          "base_uri": "https://localhost:8080/",
          "height": 206
        },
        "id": "50kVjmecFS7M",
        "outputId": "b76d44d9-2919-4da7-8b58-f32aa67f3c2d"
      },
      "source": [
        "df.head()"
      ],
      "execution_count": null,
      "outputs": [
        {
          "output_type": "execute_result",
          "data": {
            "text/html": [
              "<div>\n",
              "<style scoped>\n",
              "    .dataframe tbody tr th:only-of-type {\n",
              "        vertical-align: middle;\n",
              "    }\n",
              "\n",
              "    .dataframe tbody tr th {\n",
              "        vertical-align: top;\n",
              "    }\n",
              "\n",
              "    .dataframe thead th {\n",
              "        text-align: right;\n",
              "    }\n",
              "</style>\n",
              "<table border=\"1\" class=\"dataframe\">\n",
              "  <thead>\n",
              "    <tr style=\"text-align: right;\">\n",
              "      <th></th>\n",
              "      <th>Status</th>\n",
              "      <th>Seniority</th>\n",
              "      <th>Home</th>\n",
              "      <th>Time</th>\n",
              "      <th>Age</th>\n",
              "      <th>Marital</th>\n",
              "      <th>Records</th>\n",
              "      <th>Job</th>\n",
              "      <th>Expenses</th>\n",
              "      <th>Income</th>\n",
              "      <th>Assets</th>\n",
              "      <th>Debt</th>\n",
              "      <th>Amount</th>\n",
              "      <th>Price</th>\n",
              "    </tr>\n",
              "  </thead>\n",
              "  <tbody>\n",
              "    <tr>\n",
              "      <th>0</th>\n",
              "      <td>1</td>\n",
              "      <td>9</td>\n",
              "      <td>1</td>\n",
              "      <td>60</td>\n",
              "      <td>30</td>\n",
              "      <td>2</td>\n",
              "      <td>1</td>\n",
              "      <td>3</td>\n",
              "      <td>73</td>\n",
              "      <td>129</td>\n",
              "      <td>0</td>\n",
              "      <td>0</td>\n",
              "      <td>800</td>\n",
              "      <td>846</td>\n",
              "    </tr>\n",
              "    <tr>\n",
              "      <th>1</th>\n",
              "      <td>1</td>\n",
              "      <td>17</td>\n",
              "      <td>1</td>\n",
              "      <td>60</td>\n",
              "      <td>58</td>\n",
              "      <td>3</td>\n",
              "      <td>1</td>\n",
              "      <td>1</td>\n",
              "      <td>48</td>\n",
              "      <td>131</td>\n",
              "      <td>0</td>\n",
              "      <td>0</td>\n",
              "      <td>1000</td>\n",
              "      <td>1658</td>\n",
              "    </tr>\n",
              "    <tr>\n",
              "      <th>2</th>\n",
              "      <td>2</td>\n",
              "      <td>10</td>\n",
              "      <td>2</td>\n",
              "      <td>36</td>\n",
              "      <td>46</td>\n",
              "      <td>2</td>\n",
              "      <td>2</td>\n",
              "      <td>3</td>\n",
              "      <td>90</td>\n",
              "      <td>200</td>\n",
              "      <td>3000</td>\n",
              "      <td>0</td>\n",
              "      <td>2000</td>\n",
              "      <td>2985</td>\n",
              "    </tr>\n",
              "    <tr>\n",
              "      <th>3</th>\n",
              "      <td>1</td>\n",
              "      <td>0</td>\n",
              "      <td>1</td>\n",
              "      <td>60</td>\n",
              "      <td>24</td>\n",
              "      <td>1</td>\n",
              "      <td>1</td>\n",
              "      <td>1</td>\n",
              "      <td>63</td>\n",
              "      <td>182</td>\n",
              "      <td>2500</td>\n",
              "      <td>0</td>\n",
              "      <td>900</td>\n",
              "      <td>1325</td>\n",
              "    </tr>\n",
              "    <tr>\n",
              "      <th>4</th>\n",
              "      <td>1</td>\n",
              "      <td>0</td>\n",
              "      <td>1</td>\n",
              "      <td>36</td>\n",
              "      <td>26</td>\n",
              "      <td>1</td>\n",
              "      <td>1</td>\n",
              "      <td>1</td>\n",
              "      <td>46</td>\n",
              "      <td>107</td>\n",
              "      <td>0</td>\n",
              "      <td>0</td>\n",
              "      <td>310</td>\n",
              "      <td>910</td>\n",
              "    </tr>\n",
              "  </tbody>\n",
              "</table>\n",
              "</div>"
            ],
            "text/plain": [
              "   Status  Seniority  Home  Time  Age  ...  Income  Assets  Debt  Amount  Price\n",
              "0       1          9     1    60   30  ...     129       0     0     800    846\n",
              "1       1         17     1    60   58  ...     131       0     0    1000   1658\n",
              "2       2         10     2    36   46  ...     200    3000     0    2000   2985\n",
              "3       1          0     1    60   24  ...     182    2500     0     900   1325\n",
              "4       1          0     1    36   26  ...     107       0     0     310    910\n",
              "\n",
              "[5 rows x 14 columns]"
            ]
          },
          "metadata": {
            "tags": []
          },
          "execution_count": 4
        }
      ]
    },
    {
      "cell_type": "code",
      "metadata": {
        "colab": {
          "base_uri": "https://localhost:8080/",
          "height": 206
        },
        "id": "7dW4dkTDHHT8",
        "outputId": "c48ed74a-69b5-4683-fb88-727d9d5d05b5"
      },
      "source": [
        "df.columns = df.columns.str.lower()\n",
        "df.head()"
      ],
      "execution_count": null,
      "outputs": [
        {
          "output_type": "execute_result",
          "data": {
            "text/html": [
              "<div>\n",
              "<style scoped>\n",
              "    .dataframe tbody tr th:only-of-type {\n",
              "        vertical-align: middle;\n",
              "    }\n",
              "\n",
              "    .dataframe tbody tr th {\n",
              "        vertical-align: top;\n",
              "    }\n",
              "\n",
              "    .dataframe thead th {\n",
              "        text-align: right;\n",
              "    }\n",
              "</style>\n",
              "<table border=\"1\" class=\"dataframe\">\n",
              "  <thead>\n",
              "    <tr style=\"text-align: right;\">\n",
              "      <th></th>\n",
              "      <th>status</th>\n",
              "      <th>seniority</th>\n",
              "      <th>home</th>\n",
              "      <th>time</th>\n",
              "      <th>age</th>\n",
              "      <th>marital</th>\n",
              "      <th>records</th>\n",
              "      <th>job</th>\n",
              "      <th>expenses</th>\n",
              "      <th>income</th>\n",
              "      <th>assets</th>\n",
              "      <th>debt</th>\n",
              "      <th>amount</th>\n",
              "      <th>price</th>\n",
              "    </tr>\n",
              "  </thead>\n",
              "  <tbody>\n",
              "    <tr>\n",
              "      <th>0</th>\n",
              "      <td>1</td>\n",
              "      <td>9</td>\n",
              "      <td>1</td>\n",
              "      <td>60</td>\n",
              "      <td>30</td>\n",
              "      <td>2</td>\n",
              "      <td>1</td>\n",
              "      <td>3</td>\n",
              "      <td>73</td>\n",
              "      <td>129</td>\n",
              "      <td>0</td>\n",
              "      <td>0</td>\n",
              "      <td>800</td>\n",
              "      <td>846</td>\n",
              "    </tr>\n",
              "    <tr>\n",
              "      <th>1</th>\n",
              "      <td>1</td>\n",
              "      <td>17</td>\n",
              "      <td>1</td>\n",
              "      <td>60</td>\n",
              "      <td>58</td>\n",
              "      <td>3</td>\n",
              "      <td>1</td>\n",
              "      <td>1</td>\n",
              "      <td>48</td>\n",
              "      <td>131</td>\n",
              "      <td>0</td>\n",
              "      <td>0</td>\n",
              "      <td>1000</td>\n",
              "      <td>1658</td>\n",
              "    </tr>\n",
              "    <tr>\n",
              "      <th>2</th>\n",
              "      <td>2</td>\n",
              "      <td>10</td>\n",
              "      <td>2</td>\n",
              "      <td>36</td>\n",
              "      <td>46</td>\n",
              "      <td>2</td>\n",
              "      <td>2</td>\n",
              "      <td>3</td>\n",
              "      <td>90</td>\n",
              "      <td>200</td>\n",
              "      <td>3000</td>\n",
              "      <td>0</td>\n",
              "      <td>2000</td>\n",
              "      <td>2985</td>\n",
              "    </tr>\n",
              "    <tr>\n",
              "      <th>3</th>\n",
              "      <td>1</td>\n",
              "      <td>0</td>\n",
              "      <td>1</td>\n",
              "      <td>60</td>\n",
              "      <td>24</td>\n",
              "      <td>1</td>\n",
              "      <td>1</td>\n",
              "      <td>1</td>\n",
              "      <td>63</td>\n",
              "      <td>182</td>\n",
              "      <td>2500</td>\n",
              "      <td>0</td>\n",
              "      <td>900</td>\n",
              "      <td>1325</td>\n",
              "    </tr>\n",
              "    <tr>\n",
              "      <th>4</th>\n",
              "      <td>1</td>\n",
              "      <td>0</td>\n",
              "      <td>1</td>\n",
              "      <td>36</td>\n",
              "      <td>26</td>\n",
              "      <td>1</td>\n",
              "      <td>1</td>\n",
              "      <td>1</td>\n",
              "      <td>46</td>\n",
              "      <td>107</td>\n",
              "      <td>0</td>\n",
              "      <td>0</td>\n",
              "      <td>310</td>\n",
              "      <td>910</td>\n",
              "    </tr>\n",
              "  </tbody>\n",
              "</table>\n",
              "</div>"
            ],
            "text/plain": [
              "   status  seniority  home  time  age  ...  income  assets  debt  amount  price\n",
              "0       1          9     1    60   30  ...     129       0     0     800    846\n",
              "1       1         17     1    60   58  ...     131       0     0    1000   1658\n",
              "2       2         10     2    36   46  ...     200    3000     0    2000   2985\n",
              "3       1          0     1    60   24  ...     182    2500     0     900   1325\n",
              "4       1          0     1    36   26  ...     107       0     0     310    910\n",
              "\n",
              "[5 rows x 14 columns]"
            ]
          },
          "metadata": {
            "tags": []
          },
          "execution_count": 5
        }
      ]
    },
    {
      "cell_type": "markdown",
      "metadata": {
        "id": "ELNbdaHQKE39"
      },
      "source": [
        "Convert categorical variables that are represented by numbers to categorical. Otherwise, DictVectorizer may consider these as numeric fields"
      ]
    },
    {
      "cell_type": "code",
      "metadata": {
        "colab": {
          "base_uri": "https://localhost:8080/",
          "height": 206
        },
        "id": "kL5YzCuFKUD1",
        "outputId": "5f365b29-9169-4e39-ff14-5154c28a51b4"
      },
      "source": [
        "#Status variable conversion\n",
        "status_values = {\n",
        "    1: 'ok',\n",
        "    2: 'default',\n",
        "    0: 'unk'\n",
        "}\n",
        "\n",
        "df.status = df.status.map(status_values)\n",
        "df.head()"
      ],
      "execution_count": null,
      "outputs": [
        {
          "output_type": "execute_result",
          "data": {
            "text/html": [
              "<div>\n",
              "<style scoped>\n",
              "    .dataframe tbody tr th:only-of-type {\n",
              "        vertical-align: middle;\n",
              "    }\n",
              "\n",
              "    .dataframe tbody tr th {\n",
              "        vertical-align: top;\n",
              "    }\n",
              "\n",
              "    .dataframe thead th {\n",
              "        text-align: right;\n",
              "    }\n",
              "</style>\n",
              "<table border=\"1\" class=\"dataframe\">\n",
              "  <thead>\n",
              "    <tr style=\"text-align: right;\">\n",
              "      <th></th>\n",
              "      <th>status</th>\n",
              "      <th>seniority</th>\n",
              "      <th>home</th>\n",
              "      <th>time</th>\n",
              "      <th>age</th>\n",
              "      <th>marital</th>\n",
              "      <th>records</th>\n",
              "      <th>job</th>\n",
              "      <th>expenses</th>\n",
              "      <th>income</th>\n",
              "      <th>assets</th>\n",
              "      <th>debt</th>\n",
              "      <th>amount</th>\n",
              "      <th>price</th>\n",
              "    </tr>\n",
              "  </thead>\n",
              "  <tbody>\n",
              "    <tr>\n",
              "      <th>0</th>\n",
              "      <td>ok</td>\n",
              "      <td>9</td>\n",
              "      <td>1</td>\n",
              "      <td>60</td>\n",
              "      <td>30</td>\n",
              "      <td>2</td>\n",
              "      <td>1</td>\n",
              "      <td>3</td>\n",
              "      <td>73</td>\n",
              "      <td>129</td>\n",
              "      <td>0</td>\n",
              "      <td>0</td>\n",
              "      <td>800</td>\n",
              "      <td>846</td>\n",
              "    </tr>\n",
              "    <tr>\n",
              "      <th>1</th>\n",
              "      <td>ok</td>\n",
              "      <td>17</td>\n",
              "      <td>1</td>\n",
              "      <td>60</td>\n",
              "      <td>58</td>\n",
              "      <td>3</td>\n",
              "      <td>1</td>\n",
              "      <td>1</td>\n",
              "      <td>48</td>\n",
              "      <td>131</td>\n",
              "      <td>0</td>\n",
              "      <td>0</td>\n",
              "      <td>1000</td>\n",
              "      <td>1658</td>\n",
              "    </tr>\n",
              "    <tr>\n",
              "      <th>2</th>\n",
              "      <td>default</td>\n",
              "      <td>10</td>\n",
              "      <td>2</td>\n",
              "      <td>36</td>\n",
              "      <td>46</td>\n",
              "      <td>2</td>\n",
              "      <td>2</td>\n",
              "      <td>3</td>\n",
              "      <td>90</td>\n",
              "      <td>200</td>\n",
              "      <td>3000</td>\n",
              "      <td>0</td>\n",
              "      <td>2000</td>\n",
              "      <td>2985</td>\n",
              "    </tr>\n",
              "    <tr>\n",
              "      <th>3</th>\n",
              "      <td>ok</td>\n",
              "      <td>0</td>\n",
              "      <td>1</td>\n",
              "      <td>60</td>\n",
              "      <td>24</td>\n",
              "      <td>1</td>\n",
              "      <td>1</td>\n",
              "      <td>1</td>\n",
              "      <td>63</td>\n",
              "      <td>182</td>\n",
              "      <td>2500</td>\n",
              "      <td>0</td>\n",
              "      <td>900</td>\n",
              "      <td>1325</td>\n",
              "    </tr>\n",
              "    <tr>\n",
              "      <th>4</th>\n",
              "      <td>ok</td>\n",
              "      <td>0</td>\n",
              "      <td>1</td>\n",
              "      <td>36</td>\n",
              "      <td>26</td>\n",
              "      <td>1</td>\n",
              "      <td>1</td>\n",
              "      <td>1</td>\n",
              "      <td>46</td>\n",
              "      <td>107</td>\n",
              "      <td>0</td>\n",
              "      <td>0</td>\n",
              "      <td>310</td>\n",
              "      <td>910</td>\n",
              "    </tr>\n",
              "  </tbody>\n",
              "</table>\n",
              "</div>"
            ],
            "text/plain": [
              "    status  seniority  home  time  age  ...  income  assets  debt  amount  price\n",
              "0       ok          9     1    60   30  ...     129       0     0     800    846\n",
              "1       ok         17     1    60   58  ...     131       0     0    1000   1658\n",
              "2  default         10     2    36   46  ...     200    3000     0    2000   2985\n",
              "3       ok          0     1    60   24  ...     182    2500     0     900   1325\n",
              "4       ok          0     1    36   26  ...     107       0     0     310    910\n",
              "\n",
              "[5 rows x 14 columns]"
            ]
          },
          "metadata": {
            "tags": []
          },
          "execution_count": 6
        }
      ]
    },
    {
      "cell_type": "code",
      "metadata": {
        "id": "J6kfez3FOMt7"
      },
      "source": [
        "home_values = {\n",
        "    1: 'rent',\n",
        "    2: 'owner',\n",
        "    3: 'private',\n",
        "    4: 'ignore',\n",
        "    5: 'parents',\n",
        "    6: 'other',\n",
        "    0: 'unk'\n",
        "}\n",
        "\n",
        "df.home = df.home.map(home_values)"
      ],
      "execution_count": null,
      "outputs": []
    },
    {
      "cell_type": "code",
      "metadata": {
        "id": "-NPsZx5mOV9S"
      },
      "source": [
        "marital_values = {\n",
        "    1: 'single',\n",
        "    2: 'married',\n",
        "    3: 'widow',\n",
        "    4: 'separated',\n",
        "    5: 'divorced',\n",
        "    0: 'unk'\n",
        "}\n",
        "\n",
        "df.marital = df.marital.map(marital_values)"
      ],
      "execution_count": null,
      "outputs": []
    },
    {
      "cell_type": "code",
      "metadata": {
        "id": "mGoujIihOZT1"
      },
      "source": [
        "records_values = {\n",
        "    1: 'no',\n",
        "    2: 'yes',\n",
        "    0: 'unk'\n",
        "}\n",
        "\n",
        "df.records = df.records.map(records_values)"
      ],
      "execution_count": null,
      "outputs": []
    },
    {
      "cell_type": "code",
      "metadata": {
        "id": "xOqkF84iOc0_"
      },
      "source": [
        "job_values = {\n",
        "    1: 'fixed',\n",
        "    2: 'partime',\n",
        "    3: 'freelance',\n",
        "    4: 'others',\n",
        "    0: 'unk'\n",
        "}\n",
        "\n",
        "df.job = df.job.map(job_values)"
      ],
      "execution_count": null,
      "outputs": []
    },
    {
      "cell_type": "code",
      "metadata": {
        "colab": {
          "base_uri": "https://localhost:8080/",
          "height": 206
        },
        "id": "Ni69lgVIOgK5",
        "outputId": "c0fde4a8-0527-4848-f089-11b40fb2f24d"
      },
      "source": [
        "df.head()"
      ],
      "execution_count": null,
      "outputs": [
        {
          "output_type": "execute_result",
          "data": {
            "text/html": [
              "<div>\n",
              "<style scoped>\n",
              "    .dataframe tbody tr th:only-of-type {\n",
              "        vertical-align: middle;\n",
              "    }\n",
              "\n",
              "    .dataframe tbody tr th {\n",
              "        vertical-align: top;\n",
              "    }\n",
              "\n",
              "    .dataframe thead th {\n",
              "        text-align: right;\n",
              "    }\n",
              "</style>\n",
              "<table border=\"1\" class=\"dataframe\">\n",
              "  <thead>\n",
              "    <tr style=\"text-align: right;\">\n",
              "      <th></th>\n",
              "      <th>status</th>\n",
              "      <th>seniority</th>\n",
              "      <th>home</th>\n",
              "      <th>time</th>\n",
              "      <th>age</th>\n",
              "      <th>marital</th>\n",
              "      <th>records</th>\n",
              "      <th>job</th>\n",
              "      <th>expenses</th>\n",
              "      <th>income</th>\n",
              "      <th>assets</th>\n",
              "      <th>debt</th>\n",
              "      <th>amount</th>\n",
              "      <th>price</th>\n",
              "    </tr>\n",
              "  </thead>\n",
              "  <tbody>\n",
              "    <tr>\n",
              "      <th>0</th>\n",
              "      <td>ok</td>\n",
              "      <td>9</td>\n",
              "      <td>rent</td>\n",
              "      <td>60</td>\n",
              "      <td>30</td>\n",
              "      <td>married</td>\n",
              "      <td>no</td>\n",
              "      <td>freelance</td>\n",
              "      <td>73</td>\n",
              "      <td>129</td>\n",
              "      <td>0</td>\n",
              "      <td>0</td>\n",
              "      <td>800</td>\n",
              "      <td>846</td>\n",
              "    </tr>\n",
              "    <tr>\n",
              "      <th>1</th>\n",
              "      <td>ok</td>\n",
              "      <td>17</td>\n",
              "      <td>rent</td>\n",
              "      <td>60</td>\n",
              "      <td>58</td>\n",
              "      <td>widow</td>\n",
              "      <td>no</td>\n",
              "      <td>fixed</td>\n",
              "      <td>48</td>\n",
              "      <td>131</td>\n",
              "      <td>0</td>\n",
              "      <td>0</td>\n",
              "      <td>1000</td>\n",
              "      <td>1658</td>\n",
              "    </tr>\n",
              "    <tr>\n",
              "      <th>2</th>\n",
              "      <td>default</td>\n",
              "      <td>10</td>\n",
              "      <td>owner</td>\n",
              "      <td>36</td>\n",
              "      <td>46</td>\n",
              "      <td>married</td>\n",
              "      <td>yes</td>\n",
              "      <td>freelance</td>\n",
              "      <td>90</td>\n",
              "      <td>200</td>\n",
              "      <td>3000</td>\n",
              "      <td>0</td>\n",
              "      <td>2000</td>\n",
              "      <td>2985</td>\n",
              "    </tr>\n",
              "    <tr>\n",
              "      <th>3</th>\n",
              "      <td>ok</td>\n",
              "      <td>0</td>\n",
              "      <td>rent</td>\n",
              "      <td>60</td>\n",
              "      <td>24</td>\n",
              "      <td>single</td>\n",
              "      <td>no</td>\n",
              "      <td>fixed</td>\n",
              "      <td>63</td>\n",
              "      <td>182</td>\n",
              "      <td>2500</td>\n",
              "      <td>0</td>\n",
              "      <td>900</td>\n",
              "      <td>1325</td>\n",
              "    </tr>\n",
              "    <tr>\n",
              "      <th>4</th>\n",
              "      <td>ok</td>\n",
              "      <td>0</td>\n",
              "      <td>rent</td>\n",
              "      <td>36</td>\n",
              "      <td>26</td>\n",
              "      <td>single</td>\n",
              "      <td>no</td>\n",
              "      <td>fixed</td>\n",
              "      <td>46</td>\n",
              "      <td>107</td>\n",
              "      <td>0</td>\n",
              "      <td>0</td>\n",
              "      <td>310</td>\n",
              "      <td>910</td>\n",
              "    </tr>\n",
              "  </tbody>\n",
              "</table>\n",
              "</div>"
            ],
            "text/plain": [
              "    status  seniority   home  time  age  ... income assets debt  amount  price\n",
              "0       ok          9   rent    60   30  ...    129      0    0     800    846\n",
              "1       ok         17   rent    60   58  ...    131      0    0    1000   1658\n",
              "2  default         10  owner    36   46  ...    200   3000    0    2000   2985\n",
              "3       ok          0   rent    60   24  ...    182   2500    0     900   1325\n",
              "4       ok          0   rent    36   26  ...    107      0    0     310    910\n",
              "\n",
              "[5 rows x 14 columns]"
            ]
          },
          "metadata": {
            "tags": []
          },
          "execution_count": 11
        }
      ]
    },
    {
      "cell_type": "markdown",
      "metadata": {
        "id": "Qvq-Bl9kOr1u"
      },
      "source": [
        "Resolve Numeric Variables Issues"
      ]
    },
    {
      "cell_type": "code",
      "metadata": {
        "colab": {
          "base_uri": "https://localhost:8080/",
          "height": 300
        },
        "id": "HNeuaqNrOwAS",
        "outputId": "cc2c508f-641e-434e-abdb-5627d5e60c5f"
      },
      "source": [
        "df.describe() #Note that describe function is based on numeric values and operations"
      ],
      "execution_count": null,
      "outputs": [
        {
          "output_type": "execute_result",
          "data": {
            "text/html": [
              "<div>\n",
              "<style scoped>\n",
              "    .dataframe tbody tr th:only-of-type {\n",
              "        vertical-align: middle;\n",
              "    }\n",
              "\n",
              "    .dataframe tbody tr th {\n",
              "        vertical-align: top;\n",
              "    }\n",
              "\n",
              "    .dataframe thead th {\n",
              "        text-align: right;\n",
              "    }\n",
              "</style>\n",
              "<table border=\"1\" class=\"dataframe\">\n",
              "  <thead>\n",
              "    <tr style=\"text-align: right;\">\n",
              "      <th></th>\n",
              "      <th>seniority</th>\n",
              "      <th>time</th>\n",
              "      <th>age</th>\n",
              "      <th>expenses</th>\n",
              "      <th>income</th>\n",
              "      <th>assets</th>\n",
              "      <th>debt</th>\n",
              "      <th>amount</th>\n",
              "      <th>price</th>\n",
              "    </tr>\n",
              "  </thead>\n",
              "  <tbody>\n",
              "    <tr>\n",
              "      <th>count</th>\n",
              "      <td>4455.000000</td>\n",
              "      <td>4455.000000</td>\n",
              "      <td>4455.000000</td>\n",
              "      <td>4455.000000</td>\n",
              "      <td>4.455000e+03</td>\n",
              "      <td>4.455000e+03</td>\n",
              "      <td>4.455000e+03</td>\n",
              "      <td>4455.000000</td>\n",
              "      <td>4455.000000</td>\n",
              "    </tr>\n",
              "    <tr>\n",
              "      <th>mean</th>\n",
              "      <td>7.987205</td>\n",
              "      <td>46.441751</td>\n",
              "      <td>37.077666</td>\n",
              "      <td>55.568799</td>\n",
              "      <td>7.633170e+05</td>\n",
              "      <td>1.060341e+06</td>\n",
              "      <td>4.043820e+05</td>\n",
              "      <td>1039.021773</td>\n",
              "      <td>1462.875645</td>\n",
              "    </tr>\n",
              "    <tr>\n",
              "      <th>std</th>\n",
              "      <td>8.173444</td>\n",
              "      <td>14.655225</td>\n",
              "      <td>10.984856</td>\n",
              "      <td>19.515878</td>\n",
              "      <td>8.703625e+06</td>\n",
              "      <td>1.021757e+07</td>\n",
              "      <td>6.344253e+06</td>\n",
              "      <td>474.543007</td>\n",
              "      <td>628.089913</td>\n",
              "    </tr>\n",
              "    <tr>\n",
              "      <th>min</th>\n",
              "      <td>0.000000</td>\n",
              "      <td>6.000000</td>\n",
              "      <td>18.000000</td>\n",
              "      <td>35.000000</td>\n",
              "      <td>0.000000e+00</td>\n",
              "      <td>0.000000e+00</td>\n",
              "      <td>0.000000e+00</td>\n",
              "      <td>100.000000</td>\n",
              "      <td>105.000000</td>\n",
              "    </tr>\n",
              "    <tr>\n",
              "      <th>25%</th>\n",
              "      <td>2.000000</td>\n",
              "      <td>36.000000</td>\n",
              "      <td>28.000000</td>\n",
              "      <td>35.000000</td>\n",
              "      <td>8.000000e+01</td>\n",
              "      <td>0.000000e+00</td>\n",
              "      <td>0.000000e+00</td>\n",
              "      <td>700.000000</td>\n",
              "      <td>1117.500000</td>\n",
              "    </tr>\n",
              "    <tr>\n",
              "      <th>50%</th>\n",
              "      <td>5.000000</td>\n",
              "      <td>48.000000</td>\n",
              "      <td>36.000000</td>\n",
              "      <td>51.000000</td>\n",
              "      <td>1.200000e+02</td>\n",
              "      <td>3.500000e+03</td>\n",
              "      <td>0.000000e+00</td>\n",
              "      <td>1000.000000</td>\n",
              "      <td>1400.000000</td>\n",
              "    </tr>\n",
              "    <tr>\n",
              "      <th>75%</th>\n",
              "      <td>12.000000</td>\n",
              "      <td>60.000000</td>\n",
              "      <td>45.000000</td>\n",
              "      <td>72.000000</td>\n",
              "      <td>1.660000e+02</td>\n",
              "      <td>6.000000e+03</td>\n",
              "      <td>0.000000e+00</td>\n",
              "      <td>1300.000000</td>\n",
              "      <td>1692.000000</td>\n",
              "    </tr>\n",
              "    <tr>\n",
              "      <th>max</th>\n",
              "      <td>48.000000</td>\n",
              "      <td>72.000000</td>\n",
              "      <td>68.000000</td>\n",
              "      <td>180.000000</td>\n",
              "      <td>1.000000e+08</td>\n",
              "      <td>1.000000e+08</td>\n",
              "      <td>1.000000e+08</td>\n",
              "      <td>5000.000000</td>\n",
              "      <td>11140.000000</td>\n",
              "    </tr>\n",
              "  </tbody>\n",
              "</table>\n",
              "</div>"
            ],
            "text/plain": [
              "         seniority         time  ...       amount         price\n",
              "count  4455.000000  4455.000000  ...  4455.000000   4455.000000\n",
              "mean      7.987205    46.441751  ...  1039.021773   1462.875645\n",
              "std       8.173444    14.655225  ...   474.543007    628.089913\n",
              "min       0.000000     6.000000  ...   100.000000    105.000000\n",
              "25%       2.000000    36.000000  ...   700.000000   1117.500000\n",
              "50%       5.000000    48.000000  ...  1000.000000   1400.000000\n",
              "75%      12.000000    60.000000  ...  1300.000000   1692.000000\n",
              "max      48.000000    72.000000  ...  5000.000000  11140.000000\n",
              "\n",
              "[8 rows x 9 columns]"
            ]
          },
          "metadata": {
            "tags": []
          },
          "execution_count": 12
        }
      ]
    },
    {
      "cell_type": "code",
      "metadata": {
        "colab": {
          "base_uri": "https://localhost:8080/",
          "height": 300
        },
        "id": "uS46-jKkO3eY",
        "outputId": "74fbbe8d-eb6a-4e32-e290-92c5a1e54f67"
      },
      "source": [
        "df.describe().round() #Remove the fractional part and round to integer. Note that missing values in the dataset are encoded as 99999999.0"
      ],
      "execution_count": null,
      "outputs": [
        {
          "output_type": "execute_result",
          "data": {
            "text/html": [
              "<div>\n",
              "<style scoped>\n",
              "    .dataframe tbody tr th:only-of-type {\n",
              "        vertical-align: middle;\n",
              "    }\n",
              "\n",
              "    .dataframe tbody tr th {\n",
              "        vertical-align: top;\n",
              "    }\n",
              "\n",
              "    .dataframe thead th {\n",
              "        text-align: right;\n",
              "    }\n",
              "</style>\n",
              "<table border=\"1\" class=\"dataframe\">\n",
              "  <thead>\n",
              "    <tr style=\"text-align: right;\">\n",
              "      <th></th>\n",
              "      <th>seniority</th>\n",
              "      <th>time</th>\n",
              "      <th>age</th>\n",
              "      <th>expenses</th>\n",
              "      <th>income</th>\n",
              "      <th>assets</th>\n",
              "      <th>debt</th>\n",
              "      <th>amount</th>\n",
              "      <th>price</th>\n",
              "    </tr>\n",
              "  </thead>\n",
              "  <tbody>\n",
              "    <tr>\n",
              "      <th>count</th>\n",
              "      <td>4455.0</td>\n",
              "      <td>4455.0</td>\n",
              "      <td>4455.0</td>\n",
              "      <td>4455.0</td>\n",
              "      <td>4455.0</td>\n",
              "      <td>4455.0</td>\n",
              "      <td>4455.0</td>\n",
              "      <td>4455.0</td>\n",
              "      <td>4455.0</td>\n",
              "    </tr>\n",
              "    <tr>\n",
              "      <th>mean</th>\n",
              "      <td>8.0</td>\n",
              "      <td>46.0</td>\n",
              "      <td>37.0</td>\n",
              "      <td>56.0</td>\n",
              "      <td>763317.0</td>\n",
              "      <td>1060341.0</td>\n",
              "      <td>404382.0</td>\n",
              "      <td>1039.0</td>\n",
              "      <td>1463.0</td>\n",
              "    </tr>\n",
              "    <tr>\n",
              "      <th>std</th>\n",
              "      <td>8.0</td>\n",
              "      <td>15.0</td>\n",
              "      <td>11.0</td>\n",
              "      <td>20.0</td>\n",
              "      <td>8703625.0</td>\n",
              "      <td>10217569.0</td>\n",
              "      <td>6344253.0</td>\n",
              "      <td>475.0</td>\n",
              "      <td>628.0</td>\n",
              "    </tr>\n",
              "    <tr>\n",
              "      <th>min</th>\n",
              "      <td>0.0</td>\n",
              "      <td>6.0</td>\n",
              "      <td>18.0</td>\n",
              "      <td>35.0</td>\n",
              "      <td>0.0</td>\n",
              "      <td>0.0</td>\n",
              "      <td>0.0</td>\n",
              "      <td>100.0</td>\n",
              "      <td>105.0</td>\n",
              "    </tr>\n",
              "    <tr>\n",
              "      <th>25%</th>\n",
              "      <td>2.0</td>\n",
              "      <td>36.0</td>\n",
              "      <td>28.0</td>\n",
              "      <td>35.0</td>\n",
              "      <td>80.0</td>\n",
              "      <td>0.0</td>\n",
              "      <td>0.0</td>\n",
              "      <td>700.0</td>\n",
              "      <td>1118.0</td>\n",
              "    </tr>\n",
              "    <tr>\n",
              "      <th>50%</th>\n",
              "      <td>5.0</td>\n",
              "      <td>48.0</td>\n",
              "      <td>36.0</td>\n",
              "      <td>51.0</td>\n",
              "      <td>120.0</td>\n",
              "      <td>3500.0</td>\n",
              "      <td>0.0</td>\n",
              "      <td>1000.0</td>\n",
              "      <td>1400.0</td>\n",
              "    </tr>\n",
              "    <tr>\n",
              "      <th>75%</th>\n",
              "      <td>12.0</td>\n",
              "      <td>60.0</td>\n",
              "      <td>45.0</td>\n",
              "      <td>72.0</td>\n",
              "      <td>166.0</td>\n",
              "      <td>6000.0</td>\n",
              "      <td>0.0</td>\n",
              "      <td>1300.0</td>\n",
              "      <td>1692.0</td>\n",
              "    </tr>\n",
              "    <tr>\n",
              "      <th>max</th>\n",
              "      <td>48.0</td>\n",
              "      <td>72.0</td>\n",
              "      <td>68.0</td>\n",
              "      <td>180.0</td>\n",
              "      <td>99999999.0</td>\n",
              "      <td>99999999.0</td>\n",
              "      <td>99999999.0</td>\n",
              "      <td>5000.0</td>\n",
              "      <td>11140.0</td>\n",
              "    </tr>\n",
              "  </tbody>\n",
              "</table>\n",
              "</div>"
            ],
            "text/plain": [
              "       seniority    time     age  ...        debt  amount    price\n",
              "count     4455.0  4455.0  4455.0  ...      4455.0  4455.0   4455.0\n",
              "mean         8.0    46.0    37.0  ...    404382.0  1039.0   1463.0\n",
              "std          8.0    15.0    11.0  ...   6344253.0   475.0    628.0\n",
              "min          0.0     6.0    18.0  ...         0.0   100.0    105.0\n",
              "25%          2.0    36.0    28.0  ...         0.0   700.0   1118.0\n",
              "50%          5.0    48.0    36.0  ...         0.0  1000.0   1400.0\n",
              "75%         12.0    60.0    45.0  ...         0.0  1300.0   1692.0\n",
              "max         48.0    72.0    68.0  ...  99999999.0  5000.0  11140.0\n",
              "\n",
              "[8 rows x 9 columns]"
            ]
          },
          "metadata": {
            "tags": []
          },
          "execution_count": 13
        }
      ]
    },
    {
      "cell_type": "code",
      "metadata": {
        "id": "IrLjnPt4Ppr2"
      },
      "source": [
        "#Lets replace 99999999.0 values to Numpy NAN (Not a Number) values so that these are not taken into account while making calculations\n",
        "for c in ['income', 'assets', 'debt']:\n",
        "    df[c] = df[c].replace(to_replace=99999999, value=np.nan)"
      ],
      "execution_count": null,
      "outputs": []
    },
    {
      "cell_type": "code",
      "metadata": {
        "colab": {
          "base_uri": "https://localhost:8080/"
        },
        "id": "KnBCr26MQDA2",
        "outputId": "47d6a156-4602-40dc-a4c3-9bbbd80a68f4"
      },
      "source": [
        "#Check null values. No nulls in the target \"status\"\n",
        "df.isnull().sum()"
      ],
      "execution_count": null,
      "outputs": [
        {
          "output_type": "execute_result",
          "data": {
            "text/plain": [
              "status        0\n",
              "seniority     0\n",
              "home          0\n",
              "time          0\n",
              "age           0\n",
              "marital       0\n",
              "records       0\n",
              "job           0\n",
              "expenses      0\n",
              "income       34\n",
              "assets       47\n",
              "debt         18\n",
              "amount        0\n",
              "price         0\n",
              "dtype: int64"
            ]
          },
          "metadata": {
            "tags": []
          },
          "execution_count": 15
        }
      ]
    },
    {
      "cell_type": "code",
      "metadata": {
        "colab": {
          "base_uri": "https://localhost:8080/",
          "height": 300
        },
        "id": "bl4557f7bVCp",
        "outputId": "b17d7ca0-f83f-4264-e09e-3cbf525115d9"
      },
      "source": [
        "df.describe().round()"
      ],
      "execution_count": null,
      "outputs": [
        {
          "output_type": "execute_result",
          "data": {
            "text/html": [
              "<div>\n",
              "<style scoped>\n",
              "    .dataframe tbody tr th:only-of-type {\n",
              "        vertical-align: middle;\n",
              "    }\n",
              "\n",
              "    .dataframe tbody tr th {\n",
              "        vertical-align: top;\n",
              "    }\n",
              "\n",
              "    .dataframe thead th {\n",
              "        text-align: right;\n",
              "    }\n",
              "</style>\n",
              "<table border=\"1\" class=\"dataframe\">\n",
              "  <thead>\n",
              "    <tr style=\"text-align: right;\">\n",
              "      <th></th>\n",
              "      <th>seniority</th>\n",
              "      <th>time</th>\n",
              "      <th>age</th>\n",
              "      <th>expenses</th>\n",
              "      <th>income</th>\n",
              "      <th>assets</th>\n",
              "      <th>debt</th>\n",
              "      <th>amount</th>\n",
              "      <th>price</th>\n",
              "    </tr>\n",
              "  </thead>\n",
              "  <tbody>\n",
              "    <tr>\n",
              "      <th>count</th>\n",
              "      <td>4455.0</td>\n",
              "      <td>4455.0</td>\n",
              "      <td>4455.0</td>\n",
              "      <td>4455.0</td>\n",
              "      <td>4421.0</td>\n",
              "      <td>4408.0</td>\n",
              "      <td>4437.0</td>\n",
              "      <td>4455.0</td>\n",
              "      <td>4455.0</td>\n",
              "    </tr>\n",
              "    <tr>\n",
              "      <th>mean</th>\n",
              "      <td>8.0</td>\n",
              "      <td>46.0</td>\n",
              "      <td>37.0</td>\n",
              "      <td>56.0</td>\n",
              "      <td>131.0</td>\n",
              "      <td>5403.0</td>\n",
              "      <td>343.0</td>\n",
              "      <td>1039.0</td>\n",
              "      <td>1463.0</td>\n",
              "    </tr>\n",
              "    <tr>\n",
              "      <th>std</th>\n",
              "      <td>8.0</td>\n",
              "      <td>15.0</td>\n",
              "      <td>11.0</td>\n",
              "      <td>20.0</td>\n",
              "      <td>86.0</td>\n",
              "      <td>11573.0</td>\n",
              "      <td>1246.0</td>\n",
              "      <td>475.0</td>\n",
              "      <td>628.0</td>\n",
              "    </tr>\n",
              "    <tr>\n",
              "      <th>min</th>\n",
              "      <td>0.0</td>\n",
              "      <td>6.0</td>\n",
              "      <td>18.0</td>\n",
              "      <td>35.0</td>\n",
              "      <td>0.0</td>\n",
              "      <td>0.0</td>\n",
              "      <td>0.0</td>\n",
              "      <td>100.0</td>\n",
              "      <td>105.0</td>\n",
              "    </tr>\n",
              "    <tr>\n",
              "      <th>25%</th>\n",
              "      <td>2.0</td>\n",
              "      <td>36.0</td>\n",
              "      <td>28.0</td>\n",
              "      <td>35.0</td>\n",
              "      <td>80.0</td>\n",
              "      <td>0.0</td>\n",
              "      <td>0.0</td>\n",
              "      <td>700.0</td>\n",
              "      <td>1118.0</td>\n",
              "    </tr>\n",
              "    <tr>\n",
              "      <th>50%</th>\n",
              "      <td>5.0</td>\n",
              "      <td>48.0</td>\n",
              "      <td>36.0</td>\n",
              "      <td>51.0</td>\n",
              "      <td>120.0</td>\n",
              "      <td>3000.0</td>\n",
              "      <td>0.0</td>\n",
              "      <td>1000.0</td>\n",
              "      <td>1400.0</td>\n",
              "    </tr>\n",
              "    <tr>\n",
              "      <th>75%</th>\n",
              "      <td>12.0</td>\n",
              "      <td>60.0</td>\n",
              "      <td>45.0</td>\n",
              "      <td>72.0</td>\n",
              "      <td>165.0</td>\n",
              "      <td>6000.0</td>\n",
              "      <td>0.0</td>\n",
              "      <td>1300.0</td>\n",
              "      <td>1692.0</td>\n",
              "    </tr>\n",
              "    <tr>\n",
              "      <th>max</th>\n",
              "      <td>48.0</td>\n",
              "      <td>72.0</td>\n",
              "      <td>68.0</td>\n",
              "      <td>180.0</td>\n",
              "      <td>959.0</td>\n",
              "      <td>300000.0</td>\n",
              "      <td>30000.0</td>\n",
              "      <td>5000.0</td>\n",
              "      <td>11140.0</td>\n",
              "    </tr>\n",
              "  </tbody>\n",
              "</table>\n",
              "</div>"
            ],
            "text/plain": [
              "       seniority    time     age  expenses  ...    assets     debt  amount    price\n",
              "count     4455.0  4455.0  4455.0    4455.0  ...    4408.0   4437.0  4455.0   4455.0\n",
              "mean         8.0    46.0    37.0      56.0  ...    5403.0    343.0  1039.0   1463.0\n",
              "std          8.0    15.0    11.0      20.0  ...   11573.0   1246.0   475.0    628.0\n",
              "min          0.0     6.0    18.0      35.0  ...       0.0      0.0   100.0    105.0\n",
              "25%          2.0    36.0    28.0      35.0  ...       0.0      0.0   700.0   1118.0\n",
              "50%          5.0    48.0    36.0      51.0  ...    3000.0      0.0  1000.0   1400.0\n",
              "75%         12.0    60.0    45.0      72.0  ...    6000.0      0.0  1300.0   1692.0\n",
              "max         48.0    72.0    68.0     180.0  ...  300000.0  30000.0  5000.0  11140.0\n",
              "\n",
              "[8 rows x 9 columns]"
            ]
          },
          "metadata": {
            "tags": []
          },
          "execution_count": 16
        }
      ]
    },
    {
      "cell_type": "markdown",
      "metadata": {
        "id": "NFiWJg4UrRgd"
      },
      "source": [
        "Target Variable"
      ]
    },
    {
      "cell_type": "code",
      "metadata": {
        "colab": {
          "base_uri": "https://localhost:8080/"
        },
        "id": "KJ2exKVRrXil",
        "outputId": "0761b169-bd9c-4355-d4e8-f811440587ac"
      },
      "source": [
        "df.status.value_counts() #Note that number of examples for unk = 1 in the dataset. Thus, this value is not useful as it will not add any value to training/predictions"
      ],
      "execution_count": null,
      "outputs": [
        {
          "output_type": "execute_result",
          "data": {
            "text/plain": [
              "ok         3200\n",
              "default    1254\n",
              "unk           1\n",
              "Name: status, dtype: int64"
            ]
          },
          "metadata": {
            "tags": []
          },
          "execution_count": 17
        }
      ]
    },
    {
      "cell_type": "code",
      "metadata": {
        "id": "D0pkmPD7sJTL"
      },
      "source": [
        "df = df[df.status != 'unk']"
      ],
      "execution_count": null,
      "outputs": []
    },
    {
      "cell_type": "code",
      "metadata": {
        "colab": {
          "base_uri": "https://localhost:8080/"
        },
        "id": "ajBwqK0csUUG",
        "outputId": "f5cf50a0-c470-4031-c0da-5bc0ff2567ff"
      },
      "source": [
        "df.status.value_counts()"
      ],
      "execution_count": null,
      "outputs": [
        {
          "output_type": "execute_result",
          "data": {
            "text/plain": [
              "ok         3200\n",
              "default    1254\n",
              "Name: status, dtype: int64"
            ]
          },
          "metadata": {
            "tags": []
          },
          "execution_count": 19
        }
      ]
    },
    {
      "cell_type": "code",
      "metadata": {
        "colab": {
          "base_uri": "https://localhost:8080/"
        },
        "id": "5QPLcw72sWd-",
        "outputId": "be649fc7-91f7-429d-e384-6f3f074d2d18"
      },
      "source": [
        "df.isnull().sum()"
      ],
      "execution_count": null,
      "outputs": [
        {
          "output_type": "execute_result",
          "data": {
            "text/plain": [
              "status        0\n",
              "seniority     0\n",
              "home          0\n",
              "time          0\n",
              "age           0\n",
              "marital       0\n",
              "records       0\n",
              "job           0\n",
              "expenses      0\n",
              "income       34\n",
              "assets       47\n",
              "debt         18\n",
              "amount        0\n",
              "price         0\n",
              "dtype: int64"
            ]
          },
          "metadata": {
            "tags": []
          },
          "execution_count": 20
        }
      ]
    },
    {
      "cell_type": "markdown",
      "metadata": {
        "id": "_aExyD5ssnNH"
      },
      "source": [
        "Training"
      ]
    },
    {
      "cell_type": "code",
      "metadata": {
        "id": "0JInwIiyspbY"
      },
      "source": [
        "from sklearn.model_selection import train_test_split"
      ],
      "execution_count": null,
      "outputs": []
    },
    {
      "cell_type": "code",
      "metadata": {
        "id": "l_i1pzX3tL1c"
      },
      "source": [
        "df_train_full, df_test = train_test_split(df, test_size=0.2, random_state=11)\n",
        "df_train, df_val = train_test_split(df_train_full, test_size=0.25, random_state=11)"
      ],
      "execution_count": null,
      "outputs": []
    },
    {
      "cell_type": "code",
      "metadata": {
        "colab": {
          "base_uri": "https://localhost:8080/"
        },
        "id": "TzAeUnLKuBRN",
        "outputId": "d5141303-cd5e-4b9d-e931-5abf63205de8"
      },
      "source": [
        "len(df_train), len(df_val), len(df_test)"
      ],
      "execution_count": null,
      "outputs": [
        {
          "output_type": "execute_result",
          "data": {
            "text/plain": [
              "(2672, 891, 891)"
            ]
          },
          "metadata": {
            "tags": []
          },
          "execution_count": 23
        }
      ]
    },
    {
      "cell_type": "code",
      "metadata": {
        "colab": {
          "base_uri": "https://localhost:8080/"
        },
        "id": "6DJWdt636uqL",
        "outputId": "b0f98949-3202-4f4b-a77e-571dfe85249a"
      },
      "source": [
        "df_train.status.head(2)"
      ],
      "execution_count": null,
      "outputs": [
        {
          "output_type": "execute_result",
          "data": {
            "text/plain": [
              "951    default\n",
              "688    default\n",
              "Name: status, dtype: object"
            ]
          },
          "metadata": {
            "tags": []
          },
          "execution_count": 24
        }
      ]
    },
    {
      "cell_type": "code",
      "metadata": {
        "id": "tt1we7RG6Hwg"
      },
      "source": [
        "y_train = (df_train.status == 'default').values #Training dataset labels\n",
        "y_val = (df_val.status == 'default').values #Validation dataset lables"
      ],
      "execution_count": null,
      "outputs": []
    },
    {
      "cell_type": "code",
      "metadata": {
        "colab": {
          "base_uri": "https://localhost:8080/"
        },
        "id": "w7JsAc6y6KyV",
        "outputId": "723b4729-7fe2-4455-f41e-cfec8aa648bf"
      },
      "source": [
        "y_train[:2]"
      ],
      "execution_count": null,
      "outputs": [
        {
          "output_type": "execute_result",
          "data": {
            "text/plain": [
              "array([ True,  True])"
            ]
          },
          "metadata": {
            "tags": []
          },
          "execution_count": 26
        }
      ]
    },
    {
      "cell_type": "code",
      "metadata": {
        "id": "QrchHFtx85e6"
      },
      "source": [
        "del df_train['status']\n",
        "del df_val['status']"
      ],
      "execution_count": null,
      "outputs": []
    },
    {
      "cell_type": "code",
      "metadata": {
        "colab": {
          "base_uri": "https://localhost:8080/"
        },
        "id": "6D5g1TqJ9dlJ",
        "outputId": "4f3bbb75-7990-45ad-ad61-f9bffa5b4e4b"
      },
      "source": [
        "df_train.isnull().sum() #Missing values"
      ],
      "execution_count": null,
      "outputs": [
        {
          "output_type": "execute_result",
          "data": {
            "text/plain": [
              "seniority     0\n",
              "home          0\n",
              "time          0\n",
              "age           0\n",
              "marital       0\n",
              "records       0\n",
              "job           0\n",
              "expenses      0\n",
              "income       25\n",
              "assets       30\n",
              "debt         11\n",
              "amount        0\n",
              "price         0\n",
              "dtype: int64"
            ]
          },
          "metadata": {
            "tags": []
          },
          "execution_count": 28
        }
      ]
    },
    {
      "cell_type": "code",
      "metadata": {
        "id": "vxA83e5H-r6G"
      },
      "source": [
        "#Fill missing values with 0\n",
        "df_train = df_train.fillna(0)\n",
        "df_val = df_val.fillna(0)"
      ],
      "execution_count": null,
      "outputs": []
    },
    {
      "cell_type": "code",
      "metadata": {
        "colab": {
          "base_uri": "https://localhost:8080/"
        },
        "id": "-OoFyM_S-6wI",
        "outputId": "e8ada9ce-91fd-410f-a9bb-6236086b3f22"
      },
      "source": [
        "df_train.isnull().sum() #No more missing values"
      ],
      "execution_count": null,
      "outputs": [
        {
          "output_type": "execute_result",
          "data": {
            "text/plain": [
              "seniority    0\n",
              "home         0\n",
              "time         0\n",
              "age          0\n",
              "marital      0\n",
              "records      0\n",
              "job          0\n",
              "expenses     0\n",
              "income       0\n",
              "assets       0\n",
              "debt         0\n",
              "amount       0\n",
              "price        0\n",
              "dtype: int64"
            ]
          },
          "metadata": {
            "tags": []
          },
          "execution_count": 30
        }
      ]
    },
    {
      "cell_type": "markdown",
      "metadata": {
        "id": "3vGFXvRF_lRl"
      },
      "source": [
        "One-hot-encoding"
      ]
    },
    {
      "cell_type": "code",
      "metadata": {
        "id": "A9kfLIgzD91Y"
      },
      "source": [
        "from sklearn.feature_extraction import DictVectorizer"
      ],
      "execution_count": null,
      "outputs": []
    },
    {
      "cell_type": "code",
      "metadata": {
        "id": "hF8zi5S8_mtU"
      },
      "source": [
        "dict_train = df_train.to_dict(orient='records') #Because DictVectorizer accepts dictionaries\n",
        "dict_val = df_val.to_dict(orient='records')"
      ],
      "execution_count": null,
      "outputs": []
    },
    {
      "cell_type": "code",
      "metadata": {
        "colab": {
          "base_uri": "https://localhost:8080/"
        },
        "id": "SJ9YuwCFAKBb",
        "outputId": "d09ef20b-fa32-425a-edf0-0c06c1c1722d"
      },
      "source": [
        "dict_train[0]"
      ],
      "execution_count": null,
      "outputs": [
        {
          "output_type": "execute_result",
          "data": {
            "text/plain": [
              "{'age': 36,\n",
              " 'amount': 1000,\n",
              " 'assets': 10000.0,\n",
              " 'debt': 0.0,\n",
              " 'expenses': 75,\n",
              " 'home': 'owner',\n",
              " 'income': 0.0,\n",
              " 'job': 'freelance',\n",
              " 'marital': 'married',\n",
              " 'price': 1400,\n",
              " 'records': 'no',\n",
              " 'seniority': 10,\n",
              " 'time': 36}"
            ]
          },
          "metadata": {
            "tags": []
          },
          "execution_count": 33
        }
      ]
    },
    {
      "cell_type": "code",
      "metadata": {
        "id": "zJvnL6HUAQWS"
      },
      "source": [
        "dv = DictVectorizer(sparse=False)\n",
        "\n",
        "X_train = dv.fit_transform(dict_train) #Dictionaries are fed to DictVectorizer to get one-hot-encoded training and validation datasets\n",
        "X_val = dv.transform(dict_val)"
      ],
      "execution_count": null,
      "outputs": []
    },
    {
      "cell_type": "code",
      "metadata": {
        "colab": {
          "base_uri": "https://localhost:8080/"
        },
        "id": "HU3HDzUzASVn",
        "outputId": "c625b923-131e-4320-c746-cf1a08e1a967"
      },
      "source": [
        "dv.get_feature_names()"
      ],
      "execution_count": null,
      "outputs": [
        {
          "output_type": "execute_result",
          "data": {
            "text/plain": [
              "['age',\n",
              " 'amount',\n",
              " 'assets',\n",
              " 'debt',\n",
              " 'expenses',\n",
              " 'home=ignore',\n",
              " 'home=other',\n",
              " 'home=owner',\n",
              " 'home=parents',\n",
              " 'home=private',\n",
              " 'home=rent',\n",
              " 'home=unk',\n",
              " 'income',\n",
              " 'job=fixed',\n",
              " 'job=freelance',\n",
              " 'job=others',\n",
              " 'job=partime',\n",
              " 'job=unk',\n",
              " 'marital=divorced',\n",
              " 'marital=married',\n",
              " 'marital=separated',\n",
              " 'marital=single',\n",
              " 'marital=unk',\n",
              " 'marital=widow',\n",
              " 'price',\n",
              " 'records=no',\n",
              " 'records=yes',\n",
              " 'seniority',\n",
              " 'time']"
            ]
          },
          "metadata": {
            "tags": []
          },
          "execution_count": 35
        }
      ]
    },
    {
      "cell_type": "markdown",
      "metadata": {
        "id": "YjyAVil6BXWk"
      },
      "source": [
        "**Decision trees**"
      ]
    },
    {
      "cell_type": "code",
      "metadata": {
        "id": "z_VYHNdEBZmF"
      },
      "source": [
        "from sklearn.tree import DecisionTreeClassifier\n",
        "from sklearn.metrics import roc_auc_score"
      ],
      "execution_count": null,
      "outputs": []
    },
    {
      "cell_type": "code",
      "metadata": {
        "colab": {
          "base_uri": "https://localhost:8080/"
        },
        "id": "2z8wwWRfDq5b",
        "outputId": "a7d1bcc9-20f6-4d68-acd6-f28b1c784ce5"
      },
      "source": [
        "dt = DecisionTreeClassifier()\n",
        "dt.fit(X_train, y_train)"
      ],
      "execution_count": null,
      "outputs": [
        {
          "output_type": "execute_result",
          "data": {
            "text/plain": [
              "DecisionTreeClassifier(ccp_alpha=0.0, class_weight=None, criterion='gini',\n",
              "                       max_depth=None, max_features=None, max_leaf_nodes=None,\n",
              "                       min_impurity_decrease=0.0, min_impurity_split=None,\n",
              "                       min_samples_leaf=1, min_samples_split=2,\n",
              "                       min_weight_fraction_leaf=0.0, presort='deprecated',\n",
              "                       random_state=None, splitter='best')"
            ]
          },
          "metadata": {
            "tags": []
          },
          "execution_count": 37
        }
      ]
    },
    {
      "cell_type": "code",
      "metadata": {
        "colab": {
          "base_uri": "https://localhost:8080/"
        },
        "id": "6c27poXXFj59",
        "outputId": "3aaa5d02-0a78-4812-d02f-1dc3c165133d"
      },
      "source": [
        "#Perfect ROC AUC Score on training\n",
        "y_pred = dt.predict_proba(X_train)[:, 1]\n",
        "roc_auc_score(y_train, y_pred)"
      ],
      "execution_count": null,
      "outputs": [
        {
          "output_type": "execute_result",
          "data": {
            "text/plain": [
              "1.0"
            ]
          },
          "metadata": {
            "tags": []
          },
          "execution_count": 38
        }
      ]
    },
    {
      "cell_type": "code",
      "metadata": {
        "colab": {
          "base_uri": "https://localhost:8080/"
        },
        "id": "GHP8vkT8F5qZ",
        "outputId": "b3776f44-0333-4400-ca40-307cb81ab37d"
      },
      "source": [
        "#Validation has just 65% score\n",
        "y_pred = dt.predict_proba(X_val)[:, 1]\n",
        "roc_auc_score(y_val, y_pred)"
      ],
      "execution_count": null,
      "outputs": [
        {
          "output_type": "execute_result",
          "data": {
            "text/plain": [
              "0.6637281732096583"
            ]
          },
          "metadata": {
            "tags": []
          },
          "execution_count": 39
        }
      ]
    },
    {
      "cell_type": "code",
      "metadata": {
        "colab": {
          "base_uri": "https://localhost:8080/"
        },
        "id": "nP7IHgrZHFfI",
        "outputId": "5c8faa53-e42f-426b-91e5-b6631357a48e"
      },
      "source": [
        "#Overfitting, thus lets reduce the tree depth to 2\n",
        "\n",
        "dt = DecisionTreeClassifier(max_depth=2)\n",
        "dt.fit(X_train, y_train)\n",
        "\n",
        "y_pred = dt.predict_proba(X_train)[:, 1]\n",
        "auc = roc_auc_score(y_train, y_pred)\n",
        "print('train auc: %.3f' % auc)\n",
        "\n",
        "y_pred = dt.predict_proba(X_val)[:, 1]\n",
        "auc = roc_auc_score(y_val, y_pred)\n",
        "print('val auc: %.3f' % auc)"
      ],
      "execution_count": null,
      "outputs": [
        {
          "output_type": "stream",
          "text": [
            "train auc: 0.705\n",
            "val auc: 0.669\n"
          ],
          "name": "stdout"
        }
      ]
    },
    {
      "cell_type": "markdown",
      "metadata": {
        "id": "oseIIiR0MfpY"
      },
      "source": [
        "Parameter Tuning: https://scikit-learn.org/stable/modules/generated/sklearn.tree.DecisionTreeClassifier.html"
      ]
    },
    {
      "cell_type": "code",
      "metadata": {
        "colab": {
          "base_uri": "https://localhost:8080/"
        },
        "id": "gUj-UilBMlTG",
        "outputId": "92443a33-b086-4616-ac9f-1eb2c622b6ae"
      },
      "source": [
        "dt = DecisionTreeClassifier(max_depth=6)\n",
        "dt.fit(X_train, y_train)"
      ],
      "execution_count": null,
      "outputs": [
        {
          "output_type": "execute_result",
          "data": {
            "text/plain": [
              "DecisionTreeClassifier(ccp_alpha=0.0, class_weight=None, criterion='gini',\n",
              "                       max_depth=6, max_features=None, max_leaf_nodes=None,\n",
              "                       min_impurity_decrease=0.0, min_impurity_split=None,\n",
              "                       min_samples_leaf=1, min_samples_split=2,\n",
              "                       min_weight_fraction_leaf=0.0, presort='deprecated',\n",
              "                       random_state=None, splitter='best')"
            ]
          },
          "metadata": {
            "tags": []
          },
          "execution_count": 41
        }
      ]
    },
    {
      "cell_type": "code",
      "metadata": {
        "colab": {
          "base_uri": "https://localhost:8080/"
        },
        "id": "AUiCFI8fMsCo",
        "outputId": "c4dbc0be-c8fd-4859-a788-a234f861205e"
      },
      "source": [
        "DecisionTreeClassifier(max_depth=6)"
      ],
      "execution_count": null,
      "outputs": [
        {
          "output_type": "execute_result",
          "data": {
            "text/plain": [
              "DecisionTreeClassifier(ccp_alpha=0.0, class_weight=None, criterion='gini',\n",
              "                       max_depth=6, max_features=None, max_leaf_nodes=None,\n",
              "                       min_impurity_decrease=0.0, min_impurity_split=None,\n",
              "                       min_samples_leaf=1, min_samples_split=2,\n",
              "                       min_weight_fraction_leaf=0.0, presort='deprecated',\n",
              "                       random_state=None, splitter='best')"
            ]
          },
          "metadata": {
            "tags": []
          },
          "execution_count": 42
        }
      ]
    },
    {
      "cell_type": "code",
      "metadata": {
        "id": "ksqpXdatMwjD"
      },
      "source": [
        "y_pred = dt.predict_proba(X_val)[:, 1]"
      ],
      "execution_count": null,
      "outputs": []
    },
    {
      "cell_type": "code",
      "metadata": {
        "colab": {
          "base_uri": "https://localhost:8080/"
        },
        "id": "0q91qX3VM0FM",
        "outputId": "d9764edf-c1d4-416d-9be0-95c8b9a744b8"
      },
      "source": [
        "roc_auc_score(y_val, y_pred)"
      ],
      "execution_count": null,
      "outputs": [
        {
          "output_type": "execute_result",
          "data": {
            "text/plain": [
              "0.757780145794483"
            ]
          },
          "metadata": {
            "tags": []
          },
          "execution_count": 44
        }
      ]
    },
    {
      "cell_type": "code",
      "metadata": {
        "colab": {
          "base_uri": "https://localhost:8080/"
        },
        "id": "I3fBXaMKObOT",
        "outputId": "4a923bfd-5fc2-4974-96f1-ecaffb5ba596"
      },
      "source": [
        "for depth in [1, 2, 3, 4, 5, 6, 10, 15, 20, None]:\n",
        "    dt = DecisionTreeClassifier(max_depth=depth)\n",
        "    dt.fit(X_train, y_train)\n",
        "    y_pred = dt.predict_proba(X_val)[:, 1]\n",
        "    auc = roc_auc_score(y_val, y_pred)\n",
        "    print('%4s -> %.3f' % (depth, auc))"
      ],
      "execution_count": null,
      "outputs": [
        {
          "output_type": "stream",
          "text": [
            "   1 -> 0.606\n",
            "   2 -> 0.669\n",
            "   3 -> 0.739\n",
            "   4 -> 0.761\n",
            "   5 -> 0.766\n",
            "   6 -> 0.744\n",
            "  10 -> 0.695\n",
            "  15 -> 0.658\n",
            "  20 -> 0.655\n",
            "None -> 0.657\n"
          ],
          "name": "stdout"
        }
      ]
    },
    {
      "cell_type": "code",
      "metadata": {
        "colab": {
          "base_uri": "https://localhost:8080/"
        },
        "id": "skqdtJkGP0RD",
        "outputId": "f4735979-cd3e-4e89-c9b0-3ac87ebe16c7"
      },
      "source": [
        "for m in [1, 5, 10, 15, 20, 50, 100, 200]:\n",
        "    dt = DecisionTreeClassifier(max_depth=5, min_samples_leaf=m)\n",
        "    dt.fit(X_train, y_train)\n",
        "    y_pred = dt.predict_proba(X_val)[:, 1]\n",
        "    auc = roc_auc_score(y_val, y_pred)\n",
        "    print('%s -> %.3f' % (m, auc))"
      ],
      "execution_count": null,
      "outputs": [
        {
          "output_type": "stream",
          "text": [
            "1 -> 0.767\n",
            "5 -> 0.768\n",
            "10 -> 0.762\n",
            "15 -> 0.772\n",
            "20 -> 0.774\n",
            "50 -> 0.768\n",
            "100 -> 0.763\n",
            "200 -> 0.759\n"
          ],
          "name": "stdout"
        }
      ]
    },
    {
      "cell_type": "code",
      "metadata": {
        "colab": {
          "base_uri": "https://localhost:8080/"
        },
        "id": "JNwV_vFrQVfE",
        "outputId": "c0eae83a-04e8-43d7-b969-fd85e1b0798f"
      },
      "source": [
        "for m in [4, 5, 6]:\n",
        "    print('depth: %s' % m)\n",
        "\n",
        "    for s in [1, 5, 10, 15, 20, 50, 100, 200]:\n",
        "        dt = DecisionTreeClassifier(max_depth=m, min_samples_leaf=s)\n",
        "        dt.fit(X_train, y_train)\n",
        "        y_pred = dt.predict_proba(X_val)[:, 1]\n",
        "        auc = roc_auc_score(y_val, y_pred)\n",
        "        print('%s -> %.3f' % (s, auc))"
      ],
      "execution_count": null,
      "outputs": [
        {
          "output_type": "stream",
          "text": [
            "depth: 4\n",
            "1 -> 0.761\n",
            "5 -> 0.761\n",
            "10 -> 0.761\n",
            "15 -> 0.764\n",
            "20 -> 0.761\n",
            "50 -> 0.753\n",
            "100 -> 0.756\n",
            "200 -> 0.747\n",
            "depth: 5\n",
            "1 -> 0.767\n",
            "5 -> 0.768\n",
            "10 -> 0.762\n",
            "15 -> 0.773\n",
            "20 -> 0.774\n",
            "50 -> 0.767\n",
            "100 -> 0.763\n",
            "200 -> 0.759\n",
            "depth: 6\n",
            "1 -> 0.749\n",
            "5 -> 0.762\n",
            "10 -> 0.778\n",
            "15 -> 0.785\n",
            "20 -> 0.774\n",
            "50 -> 0.772\n",
            "100 -> 0.776\n",
            "200 -> 0.768\n"
          ],
          "name": "stdout"
        }
      ]
    },
    {
      "cell_type": "code",
      "metadata": {
        "colab": {
          "base_uri": "https://localhost:8080/"
        },
        "id": "Ad4aXzgvQj0k",
        "outputId": "401ab03d-c474-477b-af9a-75f91ebc1fce"
      },
      "source": [
        "for m in [1, 5, 10, 15, 20, 50, 100, 200]:\n",
        "    dt = DecisionTreeClassifier(max_depth=6, min_samples_leaf=m)\n",
        "    dt.fit(X_train, y_train)\n",
        "    y_pred = dt.predict_proba(X_val)[:, 1]\n",
        "    auc = roc_auc_score(y_val, y_pred)\n",
        "    print('%s -> %.3f' % (m, auc))"
      ],
      "execution_count": null,
      "outputs": [
        {
          "output_type": "stream",
          "text": [
            "1 -> 0.747\n",
            "5 -> 0.760\n",
            "10 -> 0.778\n",
            "15 -> 0.786\n",
            "20 -> 0.774\n",
            "50 -> 0.770\n",
            "100 -> 0.776\n",
            "200 -> 0.768\n"
          ],
          "name": "stdout"
        }
      ]
    },
    {
      "cell_type": "code",
      "metadata": {
        "colab": {
          "base_uri": "https://localhost:8080/"
        },
        "id": "-ZfHSbXURNNR",
        "outputId": "f3f183a2-1c21-4a00-857e-e3bf2fe18d7d"
      },
      "source": [
        "dt = DecisionTreeClassifier(max_depth=6, min_samples_leaf=15)\n",
        "dt.fit(X_train, y_train)\n",
        "y_pred = dt.predict_proba(X_train)[:, 1]\n",
        "auc_train = roc_auc_score(y_train, y_pred)\n",
        "print(auc_train)\n",
        "\n",
        "y_pred_dt = dt.predict_proba(X_val)[:, 1]\n",
        "auc_val = roc_auc_score(y_val, y_pred_dt)\n",
        "print(auc_val)"
      ],
      "execution_count": null,
      "outputs": [
        {
          "output_type": "stream",
          "text": [
            "0.8612437327474509\n",
            "0.7854738320699426\n"
          ],
          "name": "stdout"
        }
      ]
    },
    {
      "cell_type": "code",
      "metadata": {
        "id": "AWtla7CXUyjY"
      },
      "source": [
        "from sklearn.metrics import roc_curve"
      ],
      "execution_count": null,
      "outputs": []
    },
    {
      "cell_type": "code",
      "metadata": {
        "colab": {
          "base_uri": "https://localhost:8080/",
          "height": 350
        },
        "id": "ulnmmqptU224",
        "outputId": "fe8f5928-18fc-4d20-945a-461c0ab706d7"
      },
      "source": [
        "fpr, tpr, _ = roc_curve(y_val, y_pred_dt)\n",
        "\n",
        "plt.figure(figsize=(5, 5))\n",
        "\n",
        "plt.plot(fpr, tpr, color='black')\n",
        "plt.plot([0, 1], [0, 1], color='black', lw=0.7, linestyle='dashed', alpha=0.5)\n",
        "\n",
        "plt.xlim([-0.02, 1.02])\n",
        "plt.ylim([-0.02, 1.02])\n",
        "plt.xlabel('False Positive Rate')\n",
        "plt.ylabel('True Positive Rate')\n",
        "\n",
        "plt.title('ROC curve')\n",
        "\n",
        "plt.show()"
      ],
      "execution_count": null,
      "outputs": [
        {
          "output_type": "display_data",
          "data": {
            "image/png": "[encoded data removed]",
            "text/plain": [
              "<Figure size 360x360 with 1 Axes>"
            ]
          },
          "metadata": {
            "tags": [],
            "needs_background": "light"
          }
        }
      ]
    },
    {
      "cell_type": "markdown",
      "metadata": {
        "id": "56-jSQV4EVKH"
      },
      "source": [
        "**Random forest**"
      ]
    },
    {
      "cell_type": "code",
      "metadata": {
        "id": "XnUs3vx8EX_M"
      },
      "source": [
        "from sklearn.ensemble import RandomForestClassifier"
      ],
      "execution_count": null,
      "outputs": []
    },
    {
      "cell_type": "code",
      "metadata": {
        "colab": {
          "base_uri": "https://localhost:8080/"
        },
        "id": "SP36MdvEFmK4",
        "outputId": "df0ed611-112a-4898-ad6f-48626a6471d4"
      },
      "source": [
        "rf = RandomForestClassifier(n_estimators=10) #n_estimators = number of trees\n",
        "rf.fit(X_train, y_train)\n",
        "y_pred = rf.predict_proba(X_val)[:, 1]\n",
        "roc_auc_score(y_val, y_pred)"
      ],
      "execution_count": null,
      "outputs": [
        {
          "output_type": "execute_result",
          "data": {
            "text/plain": [
              "0.7662020779346589"
            ]
          },
          "metadata": {
            "tags": []
          },
          "execution_count": 53
        }
      ]
    },
    {
      "cell_type": "code",
      "metadata": {
        "colab": {
          "base_uri": "https://localhost:8080/"
        },
        "id": "wK31fBPQGSAg",
        "outputId": "46b4c640-cd25-4ecf-b321-5b0fcee033b0"
      },
      "source": [
        "#If we repeat one more time, roc_auc_score changes because a random subset of features is selected each time\n",
        "rf = RandomForestClassifier(n_estimators=10)\n",
        "rf.fit(X_train, y_train)\n",
        "y_pred = rf.predict_proba(X_val)[:, 1]\n",
        "roc_auc_score(y_val, y_pred)"
      ],
      "execution_count": null,
      "outputs": [
        {
          "output_type": "execute_result",
          "data": {
            "text/plain": [
              "0.7798067375457122"
            ]
          },
          "metadata": {
            "tags": []
          },
          "execution_count": 54
        }
      ]
    },
    {
      "cell_type": "code",
      "metadata": {
        "colab": {
          "base_uri": "https://localhost:8080/"
        },
        "id": "x5NYZ7YbLCtm",
        "outputId": "bcfc2701-501b-45c5-d74d-099c470c200a"
      },
      "source": [
        "#To understand how much it changes, lets loop over it 100 times and look at the mean and the standard deviation\n",
        "aucs = []\n",
        "\n",
        "for i in range(100):\n",
        "    rf = RandomForestClassifier(n_estimators=10)\n",
        "    rf.fit(X_train, y_train)\n",
        "    y_pred = rf.predict_proba(X_val)[:, 1]\n",
        "    auc = roc_auc_score(y_val, y_pred)\n",
        "    aucs.append(auc)\n",
        "\n",
        "auc_mean = np.mean(aucs)\n",
        "auc_std = np.std(aucs)\n",
        "\n",
        "print('%.3f +- %.3f' % (auc_mean, auc_std))\n",
        "print('%.3f -- %.3f' % (auc_mean -  auc_std, auc_mean + auc_std))"
      ],
      "execution_count": null,
      "outputs": [
        {
          "output_type": "stream",
          "text": [
            "0.783 +- 0.008\n",
            "0.775 -- 0.792\n"
          ],
          "name": "stdout"
        }
      ]
    },
    {
      "cell_type": "code",
      "metadata": {
        "colab": {
          "base_uri": "https://localhost:8080/"
        },
        "id": "XBuMz7peMQw1",
        "outputId": "50e27997-9ab6-4325-8dd3-b0890edfefc9"
      },
      "source": [
        "#Lets use random_state to make the result consistent\n",
        "rf = RandomForestClassifier(n_estimators=10, random_state=3)\n",
        "rf.fit(X_train, y_train)\n",
        "y_pred = rf.predict_proba(X_val)[:, 1]\n",
        "roc_auc_score(y_val, y_pred)"
      ],
      "execution_count": null,
      "outputs": [
        {
          "output_type": "execute_result",
          "data": {
            "text/plain": [
              "0.7811145285897654"
            ]
          },
          "metadata": {
            "tags": []
          },
          "execution_count": 56
        }
      ]
    },
    {
      "cell_type": "code",
      "metadata": {
        "colab": {
          "base_uri": "https://localhost:8080/"
        },
        "id": "CS5m1I0dNUiQ",
        "outputId": "18b313f3-3123-4582-d93f-3f97bf147da6"
      },
      "source": [
        "#Now we'll check how AUC depends on the number of trees\n",
        "aucs = []\n",
        "\n",
        "for i in range(10, 201, 10):\n",
        "    rf = RandomForestClassifier(n_estimators=i, random_state=3)\n",
        "    rf.fit(X_train, y_train)\n",
        "    y_pred = rf.predict_proba(X_val)[:, 1]\n",
        "    auc = roc_auc_score(y_val, y_pred)\n",
        "    print('%s -> %.3f' % (i, auc))\n",
        "    aucs.append(auc)"
      ],
      "execution_count": null,
      "outputs": [
        {
          "output_type": "stream",
          "text": [
            "10 -> 0.781\n",
            "20 -> 0.801\n",
            "30 -> 0.813\n",
            "40 -> 0.815\n",
            "50 -> 0.816\n",
            "60 -> 0.817\n",
            "70 -> 0.818\n",
            "80 -> 0.818\n",
            "90 -> 0.820\n",
            "100 -> 0.819\n",
            "110 -> 0.819\n",
            "120 -> 0.821\n",
            "130 -> 0.822\n",
            "140 -> 0.822\n",
            "150 -> 0.820\n",
            "160 -> 0.820\n",
            "170 -> 0.819\n",
            "180 -> 0.820\n",
            "190 -> 0.820\n",
            "200 -> 0.820\n"
          ],
          "name": "stdout"
        }
      ]
    },
    {
      "cell_type": "code",
      "metadata": {
        "colab": {
          "base_uri": "https://localhost:8080/",
          "height": 295
        },
        "id": "JtDXYeDfPmmd",
        "outputId": "f323a382-4bee-4383-a3f5-6e836055e52e"
      },
      "source": [
        "plt.figure(figsize=(6, 4))\n",
        "\n",
        "plt.plot(range(10, 201, 10), aucs, color='black')\n",
        "plt.xticks(range(0, 201, 50))\n",
        "\n",
        "plt.title('Number of trees vs AUC')\n",
        "plt.xlabel('Number of trees')\n",
        "plt.ylabel('AUC')\n",
        "\n",
        "# plt.savefig('ch06-figures/06_random_forest_n_estimators.svg')\n",
        "\n",
        "plt.show()"
      ],
      "execution_count": null,
      "outputs": [
        {
          "output_type": "display_data",
          "data": {
            "image/png": "[encoded data removed]",
            "text/plain": [
              "<Figure size 432x288 with 1 Axes>"
            ]
          },
          "metadata": {
            "tags": [],
            "needs_background": "light"
          }
        }
      ]
    },
    {
      "cell_type": "code",
      "metadata": {
        "colab": {
          "base_uri": "https://localhost:8080/"
        },
        "id": "GMhi6xWw9g2g",
        "outputId": "796f6d8e-9d84-4b48-e10b-1b0ba114f907"
      },
      "source": [
        "#Tuninig the max_depth parameter\n",
        "all_aucs = {}\n",
        "\n",
        "for depth in [5, 10, 20]:\n",
        "    print('depth: %s' % depth)\n",
        "    aucs = []\n",
        "\n",
        "    for i in range(10, 201, 10):\n",
        "        rf = RandomForestClassifier(n_estimators=i, max_depth=depth, random_state=1)\n",
        "        rf.fit(X_train, y_train)\n",
        "        y_pred = rf.predict_proba(X_val)[:, 1]\n",
        "        auc = roc_auc_score(y_val, y_pred)\n",
        "        print('%s -> %.3f' % (i, auc))\n",
        "        aucs.append(auc)\n",
        "    \n",
        "    all_aucs[depth] = aucs\n",
        "    print()"
      ],
      "execution_count": null,
      "outputs": [
        {
          "output_type": "stream",
          "text": [
            "depth: 5\n",
            "10 -> 0.788\n",
            "20 -> 0.798\n",
            "30 -> 0.800\n",
            "40 -> 0.800\n",
            "50 -> 0.800\n",
            "60 -> 0.801\n",
            "70 -> 0.802\n",
            "80 -> 0.803\n",
            "90 -> 0.804\n",
            "100 -> 0.804\n",
            "110 -> 0.807\n",
            "120 -> 0.806\n",
            "130 -> 0.808\n",
            "140 -> 0.807\n",
            "150 -> 0.807\n",
            "160 -> 0.807\n",
            "170 -> 0.807\n",
            "180 -> 0.807\n",
            "190 -> 0.807\n",
            "200 -> 0.807\n",
            "\n",
            "depth: 10\n",
            "10 -> 0.791\n",
            "20 -> 0.808\n",
            "30 -> 0.812\n",
            "40 -> 0.818\n",
            "50 -> 0.817\n",
            "60 -> 0.819\n",
            "70 -> 0.820\n",
            "80 -> 0.820\n",
            "90 -> 0.820\n",
            "100 -> 0.821\n",
            "110 -> 0.823\n",
            "120 -> 0.823\n",
            "130 -> 0.825\n",
            "140 -> 0.824\n",
            "150 -> 0.824\n",
            "160 -> 0.825\n",
            "170 -> 0.825\n",
            "180 -> 0.825\n",
            "190 -> 0.825\n",
            "200 -> 0.825\n",
            "\n",
            "depth: 20\n",
            "10 -> 0.776\n",
            "20 -> 0.803\n",
            "30 -> 0.813\n",
            "40 -> 0.817\n",
            "50 -> 0.815\n",
            "60 -> 0.813\n",
            "70 -> 0.814\n",
            "80 -> 0.815\n",
            "90 -> 0.814\n",
            "100 -> 0.815\n",
            "110 -> 0.817\n",
            "120 -> 0.816\n",
            "130 -> 0.818\n",
            "140 -> 0.818\n",
            "150 -> 0.818\n",
            "160 -> 0.818\n",
            "170 -> 0.817\n",
            "180 -> 0.817\n",
            "190 -> 0.817\n",
            "200 -> 0.818\n",
            "\n"
          ],
          "name": "stdout"
        }
      ]
    },
    {
      "cell_type": "code",
      "metadata": {
        "colab": {
          "base_uri": "https://localhost:8080/",
          "height": 295
        },
        "id": "KFNPcGMzAdVv",
        "outputId": "f93ea571-f9c5-4e80-bf8e-104226f9cd34"
      },
      "source": [
        "plt.figure(figsize=(6, 4))\n",
        "\n",
        "num_trees = list(range(10, 201, 10))\n",
        "\n",
        "plt.plot(num_trees, all_aucs[5], label='depth=5', color='black', linestyle='dotted')\n",
        "plt.plot(num_trees, all_aucs[10], label='depth=10', color='black', linestyle='dashed')\n",
        "plt.plot(num_trees, all_aucs[20], label='depth=20', color='black', linestyle='solid')\n",
        "    \n",
        "plt.xticks(range(0, 201, 50))\n",
        "plt.legend()\n",
        "\n",
        "plt.title('Number of trees vs AUC')\n",
        "plt.xlabel('Number of trees')\n",
        "plt.ylabel('AUC')\n",
        "\n",
        "# plt.savefig('ch06-figures/06_random_forest_n_estimators_depth.svg')\n",
        "\n",
        "plt.show()"
      ],
      "execution_count": null,
      "outputs": [
        {
          "output_type": "display_data",
          "data": {
            "image/png": "[encoded data removed]",
            "text/plain": [
              "<Figure size 432x288 with 1 Axes>"
            ]
          },
          "metadata": {
            "tags": [],
            "needs_background": "light"
          }
        }
      ]
    },
    {
      "cell_type": "code",
      "metadata": {
        "colab": {
          "base_uri": "https://localhost:8080/"
        },
        "id": "UtYwTB5eFBU0",
        "outputId": "b019171e-93d0-45fd-fccc-72e84f50819a"
      },
      "source": [
        "#Tuning the min_samples_leaf parameter\n",
        "all_aucs = {}\n",
        "\n",
        "for m in [3, 5, 10]:\n",
        "    print('min_samples_leaf: %s' % m)\n",
        "    aucs = []\n",
        "\n",
        "    for i in range(10, 201, 20):\n",
        "        rf = RandomForestClassifier(n_estimators=i, max_depth=10, min_samples_leaf=m, random_state=1)\n",
        "        rf.fit(X_train, y_train)\n",
        "        y_pred = rf.predict_proba(X_val)[:, 1]\n",
        "        auc = roc_auc_score(y_val, y_pred)\n",
        "        print('%s -> %.3f' % (i, auc))\n",
        "        aucs.append(auc)\n",
        "    \n",
        "    all_aucs[m] = aucs\n",
        "    print()"
      ],
      "execution_count": null,
      "outputs": [
        {
          "output_type": "stream",
          "text": [
            "min_samples_leaf: 3\n",
            "10 -> 0.811\n",
            "30 -> 0.823\n",
            "50 -> 0.823\n",
            "70 -> 0.822\n",
            "90 -> 0.823\n",
            "110 -> 0.823\n",
            "130 -> 0.824\n",
            "150 -> 0.825\n",
            "170 -> 0.825\n",
            "190 -> 0.825\n",
            "\n",
            "min_samples_leaf: 5\n",
            "10 -> 0.813\n",
            "30 -> 0.818\n",
            "50 -> 0.821\n",
            "70 -> 0.822\n",
            "90 -> 0.822\n",
            "110 -> 0.825\n",
            "130 -> 0.825\n",
            "150 -> 0.825\n",
            "170 -> 0.825\n",
            "190 -> 0.826\n",
            "\n",
            "min_samples_leaf: 10\n",
            "10 -> 0.810\n",
            "30 -> 0.822\n",
            "50 -> 0.822\n",
            "70 -> 0.819\n",
            "90 -> 0.820\n",
            "110 -> 0.820\n",
            "130 -> 0.821\n",
            "150 -> 0.820\n",
            "170 -> 0.820\n",
            "190 -> 0.820\n",
            "\n"
          ],
          "name": "stdout"
        }
      ]
    },
    {
      "cell_type": "code",
      "metadata": {
        "colab": {
          "base_uri": "https://localhost:8080/",
          "height": 295
        },
        "id": "s1portvbGOOc",
        "outputId": "02f2bd93-0425-41ed-cea8-a5887ab6a587"
      },
      "source": [
        "plt.figure(figsize=(6, 4))\n",
        "\n",
        "num_trees = list(range(10, 201, 20))\n",
        "\n",
        "plt.plot(num_trees, all_aucs[3], label='min_samples_leaf=3', color='black', linestyle='dotted')\n",
        "plt.plot(num_trees, all_aucs[5], label='min_samples_leaf=5', color='black', linestyle='dashed')\n",
        "plt.plot(num_trees, all_aucs[10], label='min_samples_leaf=10', color='black', linestyle='solid')\n",
        "    \n",
        "plt.xticks(range(0, 201, 50))\n",
        "plt.legend()\n",
        "\n",
        "plt.title('Number of trees vs AUC')\n",
        "plt.xlabel('Number of trees')\n",
        "plt.ylabel('AUC')\n",
        "\n",
        "# plt.savefig('ch06-figures/06_random_forest_n_estimators_sample_leaf.svg')\n",
        "\n",
        "plt.show()"
      ],
      "execution_count": null,
      "outputs": [
        {
          "output_type": "display_data",
          "data": {
            "image/png": "[encoded data removed]",
            "text/plain": [
              "<Figure size 432x288 with 1 Axes>"
            ]
          },
          "metadata": {
            "tags": [],
            "needs_background": "light"
          }
        }
      ]
    },
    {
      "cell_type": "markdown",
      "metadata": {
        "id": "zTBL-V_sHsIM"
      },
      "source": [
        "**Final Model**"
      ]
    },
    {
      "cell_type": "code",
      "metadata": {
        "colab": {
          "base_uri": "https://localhost:8080/"
        },
        "id": "okOzM5b9Hvbw",
        "outputId": "bf9407c1-b97d-4b2b-bb47-a55589c41c89"
      },
      "source": [
        "rf = RandomForestClassifier(n_estimators=200, max_depth=10, min_samples_leaf=5, random_state=1)\n",
        "rf.fit(X_train, y_train)"
      ],
      "execution_count": null,
      "outputs": [
        {
          "output_type": "execute_result",
          "data": {
            "text/plain": [
              "RandomForestClassifier(bootstrap=True, ccp_alpha=0.0, class_weight=None,\n",
              "                       criterion='gini', max_depth=10, max_features='auto',\n",
              "                       max_leaf_nodes=None, max_samples=None,\n",
              "                       min_impurity_decrease=0.0, min_impurity_split=None,\n",
              "                       min_samples_leaf=5, min_samples_split=2,\n",
              "                       min_weight_fraction_leaf=0.0, n_estimators=200,\n",
              "                       n_jobs=None, oob_score=False, random_state=1, verbose=0,\n",
              "                       warm_start=False)"
            ]
          },
          "metadata": {
            "tags": []
          },
          "execution_count": 63
        }
      ]
    },
    {
      "cell_type": "code",
      "metadata": {
        "colab": {
          "base_uri": "https://localhost:8080/"
        },
        "id": "C-PDAMNMIXnW",
        "outputId": "e58e4877-5535-49a8-bc49-aca25f18e877"
      },
      "source": [
        "y_pred_rf = rf.predict_proba(X_val)[:, 1]\n",
        "roc_auc_score(y_val, y_pred_rf)"
      ],
      "execution_count": null,
      "outputs": [
        {
          "output_type": "execute_result",
          "data": {
            "text/plain": [
              "0.8253826499721489"
            ]
          },
          "metadata": {
            "tags": []
          },
          "execution_count": 64
        }
      ]
    },
    {
      "cell_type": "code",
      "metadata": {
        "colab": {
          "base_uri": "https://localhost:8080/",
          "height": 350
        },
        "id": "8ibQOpLSNwFt",
        "outputId": "87685340-99dd-4230-e4e1-e66add36c37d"
      },
      "source": [
        "#Decision tree VS Random forest model ROC curve\n",
        "\n",
        "plt.figure(figsize=(5, 5))\n",
        "\n",
        "fpr, tpr, _ = roc_curve(y_val, y_pred_rf) #Random forest predictions\n",
        "plt.plot(fpr, tpr, color='black')\n",
        "\n",
        "fpr, tpr, _ = roc_curve(y_val, y_pred_dt) #Decision tree predictions\n",
        "plt.plot(fpr, tpr, color='black', linestyle='dashed')\n",
        "\n",
        "plt.plot([0, 1], [0, 1], color='black', lw=0.7, linestyle='dashed', alpha=0.5)\n",
        "\n",
        "plt.xlim([-0.02, 1.02])\n",
        "plt.ylim([-0.02, 1.02])\n",
        "plt.xlabel('False Positive Rate')\n",
        "plt.ylabel('True Positive Rate')\n",
        "\n",
        "plt.title('ROC curve')\n",
        "\n",
        "plt.show()"
      ],
      "execution_count": null,
      "outputs": [
        {
          "output_type": "display_data",
          "data": {
            "image/png": "[encoded data removed]",
            "text/plain": [
              "<Figure size 360x360 with 1 Axes>"
            ]
          },
          "metadata": {
            "tags": [],
            "needs_background": "light"
          }
        }
      ]
    },
    {
      "cell_type": "markdown",
      "metadata": {
        "id": "o9p6Rg27PSup"
      },
      "source": [
        "**XGBoost**"
      ]
    },
    {
      "cell_type": "code",
      "metadata": {
        "id": "DH6X0tf7PVOb"
      },
      "source": [
        "import xgboost as xgb"
      ],
      "execution_count": null,
      "outputs": []
    },
    {
      "cell_type": "code",
      "metadata": {
        "id": "866ZFDd7deUS"
      },
      "source": [
        "dtrain = xgb.DMatrix(X_train, label=y_train, feature_names=dv.feature_names_)\n",
        "dval = xgb.DMatrix(X_val, label=y_val, feature_names=dv.feature_names_)"
      ],
      "execution_count": null,
      "outputs": []
    },
    {
      "cell_type": "code",
      "metadata": {
        "id": "3iG0uGNBfIx9"
      },
      "source": [
        "xgb_params = {\n",
        "    'eta': 0.3, #learning rate\n",
        "    'max_depth': 6, #max depth of each tree\n",
        "    'min_child_weight': 1, #minimum number of observations in each group. Same as min_samples_leaf\n",
        "    'objective': 'binary:logistic',\n",
        "    'nthread': 8,\n",
        "    'seed': 1\n",
        "}"
      ],
      "execution_count": null,
      "outputs": []
    },
    {
      "cell_type": "code",
      "metadata": {
        "id": "1bzI8KoofNMy"
      },
      "source": [
        "model = xgb.train(xgb_params, dtrain, num_boost_round=10) #10 trees"
      ],
      "execution_count": null,
      "outputs": []
    },
    {
      "cell_type": "code",
      "metadata": {
        "colab": {
          "base_uri": "https://localhost:8080/"
        },
        "id": "qfvuuW-chHqL",
        "outputId": "79447fce-5716-4361-d45f-029be04bd868"
      },
      "source": [
        "y_pred = model.predict(dval) #Predictions made for validation dataset\n",
        "y_pred[:10]"
      ],
      "execution_count": null,
      "outputs": [
        {
          "output_type": "execute_result",
          "data": {
            "text/plain": [
              "array([0.08926772, 0.0468099 , 0.09692743, 0.17261842, 0.05435968,\n",
              "       0.12576081, 0.08033007, 0.61870354, 0.486538  , 0.04056795],\n",
              "      dtype=float32)"
            ]
          },
          "metadata": {
            "tags": []
          },
          "execution_count": 70
        }
      ]
    },
    {
      "cell_type": "code",
      "metadata": {
        "colab": {
          "base_uri": "https://localhost:8080/"
        },
        "id": "Tq6cpPTOh4Jm",
        "outputId": "38ff84c4-80d5-4c92-c4e8-c89c2449b104"
      },
      "source": [
        "roc_auc_score(y_val, y_pred)"
      ],
      "execution_count": null,
      "outputs": [
        {
          "output_type": "execute_result",
          "data": {
            "text/plain": [
              "0.8152745150274878"
            ]
          },
          "metadata": {
            "tags": []
          },
          "execution_count": 71
        }
      ]
    },
    {
      "cell_type": "code",
      "metadata": {
        "id": "6UkE1I9rMDaN"
      },
      "source": [
        "#Model performance monitoring\n",
        "watchlist = [(dtrain, 'train'), (dval, 'val')] #Output will be prefixed with \"train\" and \"val\""
      ],
      "execution_count": null,
      "outputs": []
    },
    {
      "cell_type": "code",
      "metadata": {
        "id": "QZ0HTGc-MhIl"
      },
      "source": [
        "xgb_params = {\n",
        "    'eta': 0.3,\n",
        "    'max_depth': 6,\n",
        "    'min_child_weight': 1,\n",
        "    'objective': 'binary:logistic',\n",
        "    'eval_metric': 'auc', #metric we intend to watch\n",
        "    'nthread': 8,\n",
        "    'seed': 1\n",
        "}"
      ],
      "execution_count": null,
      "outputs": []
    },
    {
      "cell_type": "code",
      "metadata": {
        "colab": {
          "base_uri": "https://localhost:8080/"
        },
        "id": "mm4MuBrPOn2I",
        "outputId": "249214d9-f013-46da-f1e7-bc6817688a3a"
      },
      "source": [
        "model = xgb.train(xgb_params, dtrain,\n",
        "                  num_boost_round=100, #100 trees\n",
        "                  evals=watchlist, verbose_eval=10) #step by 10"
      ],
      "execution_count": null,
      "outputs": [
        {
          "output_type": "stream",
          "text": [
            "[0]\ttrain-auc:0.862996\tval-auc:0.768179\n",
            "[10]\ttrain-auc:0.950021\tval-auc:0.815577\n",
            "[20]\ttrain-auc:0.973165\tval-auc:0.817748\n",
            "[30]\ttrain-auc:0.987718\tval-auc:0.817875\n",
            "[40]\ttrain-auc:0.994562\tval-auc:0.813873\n",
            "[50]\ttrain-auc:0.996881\tval-auc:0.811282\n",
            "[60]\ttrain-auc:0.998887\tval-auc:0.808006\n",
            "[70]\ttrain-auc:0.999439\tval-auc:0.807316\n",
            "[80]\ttrain-auc:0.999847\tval-auc:0.806771\n",
            "[90]\ttrain-auc:0.999915\tval-auc:0.806371\n",
            "[99]\ttrain-auc:0.999975\tval-auc:0.805457\n"
          ],
          "name": "stdout"
        }
      ]
    },
    {
      "cell_type": "code",
      "metadata": {
        "id": "cPvOu-GpVZhp"
      },
      "source": [
        "%%capture output\n",
        "\n",
        "model = xgb.train(xgb_params, dtrain,\n",
        "                  num_boost_round=100,\n",
        "                  evals=watchlist, verbose_eval=5)"
      ],
      "execution_count": null,
      "outputs": []
    },
    {
      "cell_type": "code",
      "metadata": {
        "id": "ShqSezIwVsNS"
      },
      "source": [
        "def parse_xgb_output(output):\n",
        "    tree = []\n",
        "    aucs_train = []\n",
        "    aucs_val = []\n",
        "\n",
        "    for line in output.stdout.strip().split('\\n'):\n",
        "        it_line, train_line, val_line = line.split('\\t')\n",
        "\n",
        "        it = int(it_line.strip('[]'))\n",
        "        train = float(train_line.split(':')[1]) #When we split, [0] = train-auc and [1] = the numeric value after train-auc\n",
        "        val = float(val_line.split(':')[1]) #Same logic applies as noted above\n",
        "\n",
        "        tree.append(it)\n",
        "        aucs_train.append(train)\n",
        "        aucs_val.append(val)\n",
        "\n",
        "    return tree, aucs_train, aucs_val"
      ],
      "execution_count": null,
      "outputs": []
    },
    {
      "cell_type": "code",
      "metadata": {
        "id": "og7gV9KCqMYk"
      },
      "source": [
        "tree, aucs_train, aucs_val = parse_xgb_output(output)"
      ],
      "execution_count": null,
      "outputs": []
    },
    {
      "cell_type": "code",
      "metadata": {
        "colab": {
          "base_uri": "https://localhost:8080/",
          "height": 295
        },
        "id": "g-ofZi2Mqn0q",
        "outputId": "b94d13eb-4bf6-4fa0-c3ad-daaf2e1a8ad2"
      },
      "source": [
        "plt.figure(figsize=(6, 4))\n",
        "\n",
        "plt.plot(tree, aucs_train, color='black', linestyle='dashed', label='Train AUC')\n",
        "plt.plot(tree, aucs_val, color='black', linestyle='solid', label='Validation AUC')\n",
        "plt.xticks(range(0, 101, 25))\n",
        "\n",
        "plt.legend()\n",
        "\n",
        "plt.title('XGBoost: number of trees vs AUC')\n",
        "plt.xlabel('Number of trees')\n",
        "plt.ylabel('AUC')\n",
        "\n",
        "# plt.savefig('ch06-figures/06_xgb_default.svg')\n",
        "\n",
        "plt.show()\n",
        "#Overfitting"
      ],
      "execution_count": null,
      "outputs": [
        {
          "output_type": "display_data",
          "data": {
            "image/png": "[encoded data removed]",
            "text/plain": [
              "<Figure size 432x288 with 1 Axes>"
            ]
          },
          "metadata": {
            "tags": [],
            "needs_background": "light"
          }
        }
      ]
    },
    {
      "cell_type": "markdown",
      "metadata": {
        "id": "Ra-1PX_Ssr9J"
      },
      "source": [
        "**Parameter tuning**"
      ]
    },
    {
      "cell_type": "code",
      "metadata": {
        "id": "YP0-ZA_Lsu8I"
      },
      "source": [
        "#***eta (Learning rate)***\n",
        "%%capture output\n",
        "\n",
        "xgb_params = {\n",
        "    'eta': 0.3, #eta = 0.3\n",
        "    'max_depth': 6,\n",
        "    'min_child_weight': 1,\n",
        "\n",
        "    'objective': 'binary:logistic',\n",
        "    'eval_metric': 'auc',\n",
        "    'nthread': 8,\n",
        "    'seed': 1,\n",
        "}\n",
        "\n",
        "model = xgb.train(xgb_params, dtrain,\n",
        "                  num_boost_round=500, verbose_eval=10,\n",
        "                  evals=watchlist)"
      ],
      "execution_count": null,
      "outputs": []
    },
    {
      "cell_type": "code",
      "metadata": {
        "colab": {
          "base_uri": "https://localhost:8080/"
        },
        "id": "jBX0zD4gtvYl",
        "outputId": "0c6c32bf-5886-479e-d526-548c7376e2ef"
      },
      "source": [
        "tree, _, aucs_val_eta_03 = parse_xgb_output(output) #parse_xgb_output returns tree array, aucs_train array, aucs_val array. we dont need aucs_train in this case. tree = number of trees as per the output of model above, aucs_train = training dataset auc, aucs_val = validation auc\n",
        "print(max(aucs_val_eta_03)) #max value from the validation array\n",
        "print(list(zip(aucs_val_eta_03, tree))) #zipped arrays\n",
        "print(max(zip(aucs_val_eta_03, tree))) #max from auc for validation dataset. If \"tree\" is the first parameter of max|() function, it'll return 499\n"
      ],
      "execution_count": null,
      "outputs": [
        {
          "output_type": "stream",
          "text": [
            "0.817875\n",
            "[(0.768179, 0), (0.815577, 10), (0.817748, 20), (0.817875, 30), (0.813873, 40), (0.811282, 50), (0.808006, 60), (0.807316, 70), (0.806771, 80), (0.806371, 90), (0.805076, 100), (0.805269, 110), (0.804313, 120), (0.803949, 130), (0.802781, 140), (0.801842, 150), (0.801431, 160), (0.801231, 170), (0.801279, 180), (0.801388, 190), (0.800244, 200), (0.801328, 210), (0.80094, 220), (0.800026, 230), (0.801249, 240), (0.800238, 250), (0.800232, 260), (0.80048, 270), (0.800759, 280), (0.800728, 290), (0.800371, 300), (0.801037, 310), (0.800377, 320), (0.800232, 330), (0.80025, 340), (0.799802, 350), (0.799905, 360), (0.799735, 370), (0.799033, 380), (0.799263, 390), (0.798912, 400), (0.798912, 410), (0.798918, 420), (0.798331, 430), (0.798531, 440), (0.79844, 450), (0.798446, 460), (0.798282, 470), (0.798046, 480), (0.798537, 490), (0.798434, 499)]\n",
            "(0.817875, 30)\n"
          ],
          "name": "stdout"
        }
      ]
    },
    {
      "cell_type": "code",
      "metadata": {
        "id": "FjyISX7gO5CS"
      },
      "source": [
        "%%capture output\n",
        "\n",
        "xgb_params = {\n",
        "    'eta': 0.1, #eta = 0.1\n",
        "    'max_depth': 6,\n",
        "    'min_child_weight': 1,\n",
        "\n",
        "    'objective': 'binary:logistic',\n",
        "    'eval_metric': 'auc',\n",
        "    'nthread': 8,\n",
        "    'seed': 1,\n",
        "}\n",
        "\n",
        "model = xgb.train(xgb_params, dtrain,\n",
        "                  num_boost_round=500, verbose_eval=10,\n",
        "                  evals=watchlist)"
      ],
      "execution_count": null,
      "outputs": []
    },
    {
      "cell_type": "code",
      "metadata": {
        "colab": {
          "base_uri": "https://localhost:8080/"
        },
        "id": "CTuvDRYhPpPv",
        "outputId": "0de80dff-d44b-475b-bda0-27284ae62ce2"
      },
      "source": [
        "tree, _, aucs_val_eta_01 = parse_xgb_output(output)\n",
        "print(max(aucs_val_eta_01))\n",
        "print(max(zip(aucs_val_eta_01, tree)))"
      ],
      "execution_count": null,
      "outputs": [
        {
          "output_type": "stream",
          "text": [
            "0.824765\n",
            "(0.824765, 70)\n"
          ],
          "name": "stdout"
        }
      ]
    },
    {
      "cell_type": "code",
      "metadata": {
        "id": "2RwaR7qYQOEm"
      },
      "source": [
        "%%capture output\n",
        "\n",
        "xgb_params = {\n",
        "    'eta': 0.05,\n",
        "    'max_depth': 6,\n",
        "    'min_child_weight': 1,\n",
        "\n",
        "    'objective': 'binary:logistic',\n",
        "    'eval_metric': 'auc',\n",
        "    'nthread': 8,\n",
        "    'seed': 1,\n",
        "}\n",
        "\n",
        "model = xgb.train(xgb_params, dtrain,\n",
        "                  num_boost_round=500, verbose_eval=10,\n",
        "                  evals=watchlist)"
      ],
      "execution_count": null,
      "outputs": []
    },
    {
      "cell_type": "code",
      "metadata": {
        "colab": {
          "base_uri": "https://localhost:8080/"
        },
        "id": "4tbE4ndfQcCi",
        "outputId": "2d298449-64f6-4fbe-8f8a-3d44de97d552"
      },
      "source": [
        "tree, _, aucs_val_eta_005 = parse_xgb_output(output)\n",
        "print(max(aucs_val_eta_005))\n",
        "print(max(zip(aucs_val_eta_005, tree)))"
      ],
      "execution_count": null,
      "outputs": [
        {
          "output_type": "stream",
          "text": [
            "0.822967\n",
            "(0.822967, 120)\n"
          ],
          "name": "stdout"
        }
      ]
    },
    {
      "cell_type": "code",
      "metadata": {
        "id": "ar0xji19QoIo"
      },
      "source": [
        "%%capture output\n",
        "\n",
        "xgb_params = {\n",
        "    'eta': 0.01,\n",
        "    'max_depth': 6,\n",
        "    'min_child_weight': 1,\n",
        "\n",
        "    'objective': 'binary:logistic',\n",
        "    'eval_metric': 'auc',\n",
        "    'nthread': 8,\n",
        "    'seed': 1,\n",
        "}\n",
        "\n",
        "model = xgb.train(xgb_params, dtrain,\n",
        "                  num_boost_round=500, verbose_eval=10,\n",
        "                  evals=watchlist)"
      ],
      "execution_count": null,
      "outputs": []
    },
    {
      "cell_type": "code",
      "metadata": {
        "colab": {
          "base_uri": "https://localhost:8080/"
        },
        "id": "K43KCw_5QyXR",
        "outputId": "4ab31a05-7a47-4b30-dc88-fa885cdba87d"
      },
      "source": [
        "tree, _, aucs_val_eta_001 = parse_xgb_output(output)\n",
        "print(max(aucs_val_eta_001))\n",
        "print(max(zip(aucs_val_eta_001, tree)))"
      ],
      "execution_count": null,
      "outputs": [
        {
          "output_type": "stream",
          "text": [
            "0.821677\n",
            "(0.821677, 499)\n"
          ],
          "name": "stdout"
        }
      ]
    },
    {
      "cell_type": "code",
      "metadata": {
        "colab": {
          "base_uri": "https://localhost:8080/",
          "height": 295
        },
        "id": "tSqhsGdvQ_l2",
        "outputId": "06807062-9196-4e91-9e6d-311988d63f70"
      },
      "source": [
        "plt.plot(tree, aucs_val_eta_03, color='black', linestyle='solid', label='eta=0.3')\n",
        "plt.plot(tree, aucs_val_eta_01, color='black', linestyle='dashed', label='eta=0.1')\n",
        "# plt.plot(tree, aucs_val_eta_005, color='grey', linestyle='solid', label='eta=0.05')\n",
        "# plt.plot(tree, aucs_val_eta_001, color='grey', linestyle='dashed', label='eta=0.01')\n",
        "\n",
        "plt.xticks(range(0, 501, 100))\n",
        "\n",
        "plt.legend()\n",
        "\n",
        "plt.title('The effect of eta on model performance')\n",
        "plt.xlabel('Number of trees')\n",
        "plt.ylabel('AUC (validation)')\n",
        "\n",
        "# plt.savefig('ch06-figures/06_xgb_eta.svg')\n",
        "\n",
        "plt.show()"
      ],
      "execution_count": null,
      "outputs": [
        {
          "output_type": "display_data",
          "data": {
            "image/png": "[encoded data removed]",
            "text/plain": [
              "<Figure size 432x288 with 1 Axes>"
            ]
          },
          "metadata": {
            "tags": [],
            "needs_background": "light"
          }
        }
      ]
    },
    {
      "cell_type": "code",
      "metadata": {
        "colab": {
          "base_uri": "https://localhost:8080/",
          "height": 295
        },
        "id": "C_8ard7lRPBW",
        "outputId": "0bb28d2b-2749-4842-fecd-1220976716b9"
      },
      "source": [
        "plt.figure(figsize=(6, 4))\n",
        "\n",
        "plt.plot(tree, aucs_val_eta_01, color='grey', linestyle='dashed', label='eta=0.1')\n",
        "plt.plot(tree, aucs_val_eta_005, color='black', linestyle='solid', label='eta=0.05')\n",
        "plt.plot(tree, aucs_val_eta_001, color='black', linestyle='dashed', label='eta=0.01')\n",
        "\n",
        "plt.xticks(range(0, 501, 100))\n",
        "\n",
        "plt.legend()\n",
        "\n",
        "plt.title('The effect of eta on model performance')\n",
        "plt.xlabel('Number of trees')\n",
        "plt.ylabel('AUC (validation)')\n",
        "\n",
        "# plt.savefig('ch06-figures/06_xgb_eta_2.svg')\n",
        "\n",
        "plt.show()"
      ],
      "execution_count": null,
      "outputs": [
        {
          "output_type": "display_data",
          "data": {
            "image/png": "[encoded data removed]",
            "text/plain": [
              "<Figure size 432x288 with 1 Axes>"
            ]
          },
          "metadata": {
            "tags": [],
            "needs_background": "light"
          }
        }
      ]
    },
    {
      "cell_type": "code",
      "metadata": {
        "id": "galS_jJ9RsCt"
      },
      "source": [
        "#***max_depth (The maximal allowed depth of each tree)***\n",
        "%%capture output\n",
        "\n",
        "xgb_params = {\n",
        "    'eta': 0.1,\n",
        "    'max_depth': 3, #max_depth = 3\n",
        "    'min_child_weight': 1,\n",
        "\n",
        "    'objective': 'binary:logistic',\n",
        "    'eval_metric': 'auc',\n",
        "    'nthread': 8,\n",
        "    'seed': 1,\n",
        "}\n",
        "\n",
        "model = xgb.train(xgb_params, dtrain,\n",
        "                  num_boost_round=500, verbose_eval=10,\n",
        "                  evals=watchlist)"
      ],
      "execution_count": null,
      "outputs": []
    },
    {
      "cell_type": "code",
      "metadata": {
        "colab": {
          "base_uri": "https://localhost:8080/"
        },
        "id": "z9WS6L-HXI1W",
        "outputId": "0fcd46d7-f593-4e31-e70c-7a04ca15eb04"
      },
      "source": [
        "tree, _, aucs_val_depth3 = parse_xgb_output(output)\n",
        "print(max(aucs_val_depth3))\n",
        "print(max(zip(aucs_val_depth3, tree)))"
      ],
      "execution_count": null,
      "outputs": [
        {
          "output_type": "stream",
          "text": [
            "0.836565\n",
            "(0.836565, 180)\n"
          ],
          "name": "stdout"
        }
      ]
    },
    {
      "cell_type": "code",
      "metadata": {
        "id": "1WKlnwI3XVdb"
      },
      "source": [
        "%%capture output\n",
        "\n",
        "xgb_params = {\n",
        "    'eta': 0.1,\n",
        "    'max_depth': 10, #max_depth = 10\n",
        "    'min_child_weight': 1,\n",
        "\n",
        "    'objective': 'binary:logistic',\n",
        "    'eval_metric': 'auc',\n",
        "    'nthread': 8,\n",
        "    'seed': 1,\n",
        "}\n",
        "\n",
        "model = xgb.train(xgb_params, dtrain,\n",
        "                  num_boost_round=500, verbose_eval=10,\n",
        "                  evals=watchlist)"
      ],
      "execution_count": null,
      "outputs": []
    },
    {
      "cell_type": "code",
      "metadata": {
        "colab": {
          "base_uri": "https://localhost:8080/"
        },
        "id": "zbl74TOAXaxA",
        "outputId": "fa4d1f34-6015-4604-92b9-1192474b4a29"
      },
      "source": [
        "tree, _, aucs_val_depth10 = parse_xgb_output(output)\n",
        "print(max(aucs_val))\n",
        "print(max(zip(aucs_val_depth10, tree)))"
      ],
      "execution_count": null,
      "outputs": [
        {
          "output_type": "stream",
          "text": [
            "0.818783\n",
            "(0.811693, 100)\n"
          ],
          "name": "stdout"
        }
      ]
    },
    {
      "cell_type": "code",
      "metadata": {
        "id": "7de00BqcX2kt"
      },
      "source": [
        "%%capture output\n",
        "\n",
        "xgb_params = {\n",
        "    'eta': 0.1,\n",
        "    'max_depth': 4,\n",
        "    'min_child_weight': 1,\n",
        "\n",
        "    'objective': 'binary:logistic',\n",
        "    'eval_metric': 'auc',\n",
        "    'nthread': 8,\n",
        "    'seed': 1,\n",
        "}\n",
        "\n",
        "model = xgb.train(xgb_params, dtrain,\n",
        "                  num_boost_round=500, verbose_eval=10,\n",
        "                  evals=watchlist)"
      ],
      "execution_count": null,
      "outputs": []
    },
    {
      "cell_type": "code",
      "metadata": {
        "colab": {
          "base_uri": "https://localhost:8080/"
        },
        "id": "otRlnQOAYCE5",
        "outputId": "5e334cb8-e0e1-4029-fba4-110cafd820d7"
      },
      "source": [
        "tree, _, aucs_val_depth4 = parse_xgb_output(output)\n",
        "print(max(aucs_val_depth4))\n",
        "print(max(zip(aucs_val_depth4, tree)))"
      ],
      "execution_count": null,
      "outputs": [
        {
          "output_type": "stream",
          "text": [
            "0.830142\n",
            "(0.830142, 80)\n"
          ],
          "name": "stdout"
        }
      ]
    },
    {
      "cell_type": "code",
      "metadata": {
        "colab": {
          "base_uri": "https://localhost:8080/",
          "height": 295
        },
        "id": "h1BWCGemYJGW",
        "outputId": "933689cf-852d-4ce9-c4c2-6cac8e4dddd3"
      },
      "source": [
        "plt.figure(figsize=(6, 4))\n",
        "\n",
        "plt.plot(tree, aucs_val_depth3, color='black', linestyle='dashed', label='max_depth=3')\n",
        "plt.plot(tree, aucs_val_depth4, color='grey', linestyle='dashed', label='max_depth=4')\n",
        "plt.plot(tree, aucs_val_eta_01, color='black', linestyle='solid', label='max_depth=6')\n",
        "plt.plot(tree, aucs_val_depth10, color='grey', linestyle='solid', label='max_depth=10')\n",
        "\n",
        "plt.ylim(0.75, 0.845)\n",
        "plt.xlim(-10, 510)\n",
        "plt.xticks(range(0, 501, 100))\n",
        "\n",
        "plt.legend()\n",
        "\n",
        "plt.title('The effect of max_depth on model performance')\n",
        "plt.xlabel('Number of trees')\n",
        "plt.ylabel('AUC (validation)')\n",
        "\n",
        "# plt.savefig('ch06-figures/06_xgb_depth.svg')\n",
        "\n",
        "plt.show()"
      ],
      "execution_count": null,
      "outputs": [
        {
          "output_type": "display_data",
          "data": {
            "image/png": "[encoded data removed]",
            "text/plain": [
              "<Figure size 432x288 with 1 Axes>"
            ]
          },
          "metadata": {
            "tags": [],
            "needs_background": "light"
          }
        }
      ]
    },
    {
      "cell_type": "code",
      "metadata": {
        "id": "VbWdD9deYYXs"
      },
      "source": [
        "#***min_child_weight (The minimal number of observations in each group)***\n",
        "%%capture output\n",
        "\n",
        "xgb_params = {\n",
        "    'eta': 0.1,\n",
        "    'max_depth': 3,\n",
        "    'min_child_weight': 1, #min_child_weight = 1\n",
        "\n",
        "    'objective': 'binary:logistic',\n",
        "    'eval_metric': 'auc',\n",
        "    'nthread': 8,\n",
        "    'seed': 1,\n",
        "}\n",
        "\n",
        "model = xgb.train(xgb_params, dtrain,\n",
        "                  num_boost_round=500, verbose_eval=10,\n",
        "                  evals=watchlist)"
      ],
      "execution_count": null,
      "outputs": []
    },
    {
      "cell_type": "code",
      "metadata": {
        "colab": {
          "base_uri": "https://localhost:8080/"
        },
        "id": "o_CtpOPeYssZ",
        "outputId": "6c0a3b4c-c31d-428b-aa23-f36c8636f4fc"
      },
      "source": [
        "tree, _, aucs_val_mcw1 = parse_xgb_output(output)\n",
        "print(max(aucs_val_mcw1))\n",
        "print(max(zip(aucs_val_mcw1, tree)))"
      ],
      "execution_count": null,
      "outputs": [
        {
          "output_type": "stream",
          "text": [
            "0.830142\n",
            "(0.830142, 80)\n"
          ],
          "name": "stdout"
        }
      ]
    },
    {
      "cell_type": "code",
      "metadata": {
        "id": "UzbMlDoCaFsb"
      },
      "source": [
        "%%capture output\n",
        "\n",
        "xgb_params = {\n",
        "    'eta': 0.1,\n",
        "    'max_depth': 3,\n",
        "    'min_child_weight': 10, #min_child_weight = 10\n",
        "\n",
        "    'objective': 'binary:logistic',\n",
        "    'eval_metric': 'auc',\n",
        "    'nthread': 8,\n",
        "    'seed': 1,\n",
        "}\n",
        "\n",
        "model = xgb.train(xgb_params, dtrain,\n",
        "                  num_boost_round=500, verbose_eval=10,\n",
        "                  evals=watchlist)"
      ],
      "execution_count": null,
      "outputs": []
    },
    {
      "cell_type": "code",
      "metadata": {
        "colab": {
          "base_uri": "https://localhost:8080/"
        },
        "id": "cww3H4lxaRKQ",
        "outputId": "77a3375a-725a-4847-ecb8-505a3bab4e50"
      },
      "source": [
        "tree, _, aucs_val_mcw10 = parse_xgb_output(output)\n",
        "print(max(aucs_val_mcw10))\n",
        "print(max(zip(aucs_val_mcw10, tree)))"
      ],
      "execution_count": null,
      "outputs": [
        {
          "output_type": "stream",
          "text": [
            "0.833363\n",
            "(0.833363, 150)\n"
          ],
          "name": "stdout"
        }
      ]
    },
    {
      "cell_type": "code",
      "metadata": {
        "id": "JbLnDjqiabGm"
      },
      "source": [
        "%%capture output\n",
        "\n",
        "xgb_params = {\n",
        "    'eta': 0.1,\n",
        "    'max_depth': 3,\n",
        "    'min_child_weight': 30,\n",
        "\n",
        "    'objective': 'binary:logistic',\n",
        "    'eval_metric': 'auc',\n",
        "    'nthread': 8,\n",
        "    'seed': 1,\n",
        "}\n",
        "\n",
        "model = xgb.train(xgb_params, dtrain,\n",
        "                  num_boost_round=500, verbose_eval=10,\n",
        "                  evals=watchlist)"
      ],
      "execution_count": null,
      "outputs": []
    },
    {
      "cell_type": "code",
      "metadata": {
        "colab": {
          "base_uri": "https://localhost:8080/"
        },
        "id": "x3lRWMCBadbE",
        "outputId": "0257e003-0bd6-4696-f27a-f444440afbe4"
      },
      "source": [
        "tree, _, aucs_val_mcw30 = parse_xgb_output(output)\n",
        "print(max(aucs_val_mcw30))\n",
        "print(max(zip(aucs_val_mcw30, tree)))"
      ],
      "execution_count": null,
      "outputs": [
        {
          "output_type": "stream",
          "text": [
            "0.835433\n",
            "(0.835433, 160)\n"
          ],
          "name": "stdout"
        }
      ]
    },
    {
      "cell_type": "code",
      "metadata": {
        "colab": {
          "base_uri": "https://localhost:8080/",
          "height": 295
        },
        "id": "4FTvaVn-alPO",
        "outputId": "42e1a5b7-2354-41d3-aea2-f0a3264702e3"
      },
      "source": [
        "plt.figure(figsize=(6, 4))\n",
        "\n",
        "plt.plot(tree, aucs_val_mcw1, color='black', linestyle='solid', label='min_child_weight=1')\n",
        "plt.plot(tree, aucs_val_mcw10, color='grey', linestyle='solid', label='min_child_weight=10')\n",
        "plt.plot(tree, aucs_val_mcw30, color='black', linestyle='dashed', label='min_child_weight=30')\n",
        "\n",
        "plt.ylim(0.82, 0.84)\n",
        "plt.xlim(0, 510)\n",
        "plt.xticks(range(0, 501, 100))\n",
        "plt.yticks(np.linspace(0.82, 0.84, 5))\n",
        "\n",
        "plt.legend()\n",
        "\n",
        "plt.title('The effect of min_child_weight on model performance')\n",
        "plt.xlabel('Number of trees')\n",
        "plt.ylabel('AUC (validation)')\n",
        "\n",
        "# plt.savefig('ch06-figures/06_xgb_mcw.svg')\n",
        "\n",
        "plt.show()"
      ],
      "execution_count": null,
      "outputs": [
        {
          "output_type": "display_data",
          "data": {
            "image/png": "[encoded data removed]",
            "text/plain": [
              "<Figure size 432x288 with 1 Axes>"
            ]
          },
          "metadata": {
            "tags": [],
            "needs_background": "light"
          }
        }
      ]
    },
    {
      "cell_type": "code",
      "metadata": {
        "id": "wNMldUrBbA8W"
      },
      "source": [
        "#With all other parameters finalized, lets check the best number of trees, \"num_boost_round\"\n",
        "%%capture output\n",
        "\n",
        "xgb_params = {\n",
        "    'eta': 0.1,\n",
        "    'max_depth': 3,\n",
        "    'min_child_weight': 1,\n",
        "\n",
        "    'objective': 'binary:logistic',\n",
        "    'eval_metric': 'auc',\n",
        "    'nthread': 8,\n",
        "    'seed': 1,\n",
        "}\n",
        "\n",
        "model = xgb.train(xgb_params, dtrain,\n",
        "                  num_boost_round=500, verbose_eval=10,\n",
        "                  evals=watchlist)"
      ],
      "execution_count": null,
      "outputs": []
    },
    {
      "cell_type": "code",
      "metadata": {
        "colab": {
          "base_uri": "https://localhost:8080/"
        },
        "id": "PrODxM3Hbj8d",
        "outputId": "3f312c6f-1c9a-4177-f4be-a7c36e5a6c01"
      },
      "source": [
        "print(output)"
      ],
      "execution_count": null,
      "outputs": [
        {
          "output_type": "stream",
          "text": [
            "[0]\ttrain-auc:0.774243\tval-auc:0.735705\n",
            "[10]\ttrain-auc:0.847331\tval-auc:0.789639\n",
            "[20]\ttrain-auc:0.863589\tval-auc:0.806168\n",
            "[30]\ttrain-auc:0.878555\tval-auc:0.814778\n",
            "[40]\ttrain-auc:0.887011\tval-auc:0.8199\n",
            "[50]\ttrain-auc:0.894582\tval-auc:0.825946\n",
            "[60]\ttrain-auc:0.901587\tval-auc:0.828065\n",
            "[70]\ttrain-auc:0.9065\tval-auc:0.82801\n",
            "[80]\ttrain-auc:0.911104\tval-auc:0.829403\n",
            "[90]\ttrain-auc:0.914279\tval-auc:0.829972\n",
            "[100]\ttrain-auc:0.918013\tval-auc:0.832212\n",
            "[110]\ttrain-auc:0.922045\tval-auc:0.832902\n",
            "[120]\ttrain-auc:0.924598\tval-auc:0.832848\n",
            "[130]\ttrain-auc:0.928431\tval-auc:0.834144\n",
            "[140]\ttrain-auc:0.930997\tval-auc:0.834628\n",
            "[150]\ttrain-auc:0.932957\tval-auc:0.835252\n",
            "[160]\ttrain-auc:0.935513\tval-auc:0.835536\n",
            "[170]\ttrain-auc:0.937885\tval-auc:0.836384\n",
            "[180]\ttrain-auc:0.93971\tval-auc:0.836565\n",
            "[190]\ttrain-auc:0.942029\tval-auc:0.835621\n",
            "[200]\ttrain-auc:0.943343\tval-auc:0.835124\n",
            "[210]\ttrain-auc:0.945014\tval-auc:0.835458\n",
            "[220]\ttrain-auc:0.946934\tval-auc:0.835076\n",
            "[230]\ttrain-auc:0.948392\tval-auc:0.834168\n",
            "[240]\ttrain-auc:0.949987\tval-auc:0.833363\n",
            "[250]\ttrain-auc:0.950877\tval-auc:0.833411\n",
            "[260]\ttrain-auc:0.952351\tval-auc:0.833792\n",
            "[270]\ttrain-auc:0.953329\tval-auc:0.833889\n",
            "[280]\ttrain-auc:0.954698\tval-auc:0.832875\n",
            "[290]\ttrain-auc:0.955755\tval-auc:0.832739\n",
            "[300]\ttrain-auc:0.957333\tval-auc:0.831728\n",
            "[310]\ttrain-auc:0.958863\tval-auc:0.832224\n",
            "[320]\ttrain-auc:0.95972\tval-auc:0.832006\n",
            "[330]\ttrain-auc:0.960915\tval-auc:0.831389\n",
            "[340]\ttrain-auc:0.961723\tval-auc:0.831007\n",
            "[350]\ttrain-auc:0.962983\tval-auc:0.83059\n",
            "[360]\ttrain-auc:0.964156\tval-auc:0.830341\n",
            "[370]\ttrain-auc:0.965387\tval-auc:0.829451\n",
            "[380]\ttrain-auc:0.966689\tval-auc:0.829046\n",
            "[390]\ttrain-auc:0.967853\tval-auc:0.828761\n",
            "[400]\ttrain-auc:0.968755\tval-auc:0.828464\n",
            "[410]\ttrain-auc:0.969826\tval-auc:0.827441\n",
            "[420]\ttrain-auc:0.970552\tval-auc:0.827641\n",
            "[430]\ttrain-auc:0.971151\tval-auc:0.826951\n",
            "[440]\ttrain-auc:0.972127\tval-auc:0.826587\n",
            "[450]\ttrain-auc:0.97303\tval-auc:0.826618\n",
            "[460]\ttrain-auc:0.973571\tval-auc:0.826424\n",
            "[470]\ttrain-auc:0.974212\tval-auc:0.825909\n",
            "[480]\ttrain-auc:0.974972\tval-auc:0.826351\n",
            "[490]\ttrain-auc:0.975757\tval-auc:0.826043\n",
            "[499]\ttrain-auc:0.976417\tval-auc:0.825994\n",
            "\n"
          ],
          "name": "stdout"
        }
      ]
    },
    {
      "cell_type": "code",
      "metadata": {
        "colab": {
          "base_uri": "https://localhost:8080/"
        },
        "id": "4QzcKPemc1B9",
        "outputId": "6e064c40-41cb-41f4-d664-eb2736c96215"
      },
      "source": [
        "tree, _, aucs_val = parse_xgb_output(output)\n",
        "print(max(aucs_val))"
      ],
      "execution_count": null,
      "outputs": [
        {
          "output_type": "stream",
          "text": [
            "0.836565\n"
          ],
          "name": "stdout"
        }
      ]
    },
    {
      "cell_type": "code",
      "metadata": {
        "colab": {
          "base_uri": "https://localhost:8080/"
        },
        "id": "TB_H2p-fdAbd",
        "outputId": "2ead1523-91af-4d48-e195-e18889760f76"
      },
      "source": [
        "max(zip(aucs_val, tree))"
      ],
      "execution_count": null,
      "outputs": [
        {
          "output_type": "execute_result",
          "data": {
            "text/plain": [
              "(0.836565, 180)"
            ]
          },
          "metadata": {
            "tags": []
          },
          "execution_count": 107
        }
      ]
    },
    {
      "cell_type": "code",
      "metadata": {
        "colab": {
          "base_uri": "https://localhost:8080/",
          "height": 295
        },
        "id": "vQ8wy8A7dIZf",
        "outputId": "2550ebc3-6399-4099-b2e4-8547502263e1"
      },
      "source": [
        "plt.figure(figsize=(6, 4))\n",
        "\n",
        "plt.plot(tree, aucs_val, color='black', linestyle='solid')\n",
        "\n",
        "\n",
        "plt.ylim(0.80, 0.84)\n",
        "plt.xlim(0, 510)\n",
        "plt.xticks(range(0, 501, 100))\n",
        "plt.yticks(np.linspace(0.80, 0.84, 9))\n",
        "\n",
        "\n",
        "plt.vlines(180, 0, 1, color='grey', linestyle='dashed', linewidth=0.9)\n",
        "\n",
        "plt.title('Selecting the number of trees')\n",
        "plt.xlabel('Number of trees')\n",
        "plt.ylabel('AUC (validation)')\n",
        "\n",
        "# plt.savefig('ch06-figures/06_xgb_number_trees.svg')\n",
        "\n",
        "plt.show()"
      ],
      "execution_count": null,
      "outputs": [
        {
          "output_type": "display_data",
          "data": {
            "image/png": "[encoded data removed]",
            "text/plain": [
              "<Figure size 432x288 with 1 Axes>"
            ]
          },
          "metadata": {
            "tags": [],
            "needs_background": "light"
          }
        }
      ]
    },
    {
      "cell_type": "markdown",
      "metadata": {
        "id": "DWblRvl5dp-d"
      },
      "source": [
        "Final Model"
      ]
    },
    {
      "cell_type": "code",
      "metadata": {
        "colab": {
          "base_uri": "https://localhost:8080/"
        },
        "id": "3lYyGr9xdsaJ",
        "outputId": "5683470d-0fa3-4d92-c486-a894c0a9d69f"
      },
      "source": [
        "xgb_params = {\n",
        "    'eta': 0.1,\n",
        "    'max_depth': 3,\n",
        "    'min_child_weight': 1,\n",
        "\n",
        "    'objective': 'binary:logistic',\n",
        "    'eval_metric': 'auc',\n",
        "    'nthread': 8,\n",
        "    'seed': 1,\n",
        "}\n",
        "\n",
        "model = xgb.train(xgb_params, dtrain,\n",
        "                  num_boost_round=180, verbose_eval=10, #180 trees\n",
        "                  evals=watchlist)"
      ],
      "execution_count": null,
      "outputs": [
        {
          "output_type": "stream",
          "text": [
            "[0]\ttrain-auc:0.774243\tval-auc:0.735705\n",
            "[10]\ttrain-auc:0.847331\tval-auc:0.789639\n",
            "[20]\ttrain-auc:0.863589\tval-auc:0.806168\n",
            "[30]\ttrain-auc:0.878555\tval-auc:0.814778\n",
            "[40]\ttrain-auc:0.887011\tval-auc:0.8199\n",
            "[50]\ttrain-auc:0.894582\tval-auc:0.825946\n",
            "[60]\ttrain-auc:0.901587\tval-auc:0.828065\n",
            "[70]\ttrain-auc:0.9065\tval-auc:0.82801\n",
            "[80]\ttrain-auc:0.911104\tval-auc:0.829403\n",
            "[90]\ttrain-auc:0.914279\tval-auc:0.829972\n",
            "[100]\ttrain-auc:0.918013\tval-auc:0.832212\n",
            "[110]\ttrain-auc:0.922045\tval-auc:0.832902\n",
            "[120]\ttrain-auc:0.924598\tval-auc:0.832848\n",
            "[130]\ttrain-auc:0.928431\tval-auc:0.834144\n",
            "[140]\ttrain-auc:0.930997\tval-auc:0.834628\n",
            "[150]\ttrain-auc:0.932957\tval-auc:0.835252\n",
            "[160]\ttrain-auc:0.935513\tval-auc:0.835536\n",
            "[170]\ttrain-auc:0.937885\tval-auc:0.836384\n",
            "[179]\ttrain-auc:0.939617\tval-auc:0.836481\n"
          ],
          "name": "stdout"
        }
      ]
    },
    {
      "cell_type": "code",
      "metadata": {
        "id": "VYfFgdZveaXf"
      },
      "source": [
        "y_pred_xgb = model.predict(dval)"
      ],
      "execution_count": null,
      "outputs": []
    },
    {
      "cell_type": "code",
      "metadata": {
        "colab": {
          "base_uri": "https://localhost:8080/"
        },
        "id": "X-gewQmCf0Mo",
        "outputId": "ce143e92-4ceb-4fd6-a198-6f2487399134"
      },
      "source": [
        "roc_auc_score(y_val, y_pred_xgb)"
      ],
      "execution_count": null,
      "outputs": [
        {
          "output_type": "execute_result",
          "data": {
            "text/plain": [
              "0.8364807100821002"
            ]
          },
          "metadata": {
            "tags": []
          },
          "execution_count": 111
        }
      ]
    },
    {
      "cell_type": "code",
      "metadata": {
        "colab": {
          "base_uri": "https://localhost:8080/"
        },
        "id": "w4RohrccgVd5",
        "outputId": "009a0dc1-4453-48f9-9b0b-eb512a160360"
      },
      "source": [
        "print(roc_auc_score(y_val, y_pred_dt)) #Decision tree model\n",
        "print(roc_auc_score(y_val, y_pred_rf)) #Randmom forest model\n",
        "print(roc_auc_score(y_val, y_pred_xgb)) #XGBoost model"
      ],
      "execution_count": null,
      "outputs": [
        {
          "output_type": "stream",
          "text": [
            "0.7854738320699426\n",
            "0.8253826499721489\n",
            "0.8364807100821002\n"
          ],
          "name": "stdout"
        }
      ]
    },
    {
      "cell_type": "code",
      "metadata": {
        "colab": {
          "base_uri": "https://localhost:8080/",
          "height": 350
        },
        "id": "FflYTVqzgm4R",
        "outputId": "618b6eb2-09b1-4fd9-fee8-0aef59f7783e"
      },
      "source": [
        "\n",
        "plt.figure(figsize=(5, 5))\n",
        "\n",
        "fpr, tpr, _ = roc_curve(y_val, y_pred_xgb) #XGBoost model\n",
        "plt.plot(fpr, tpr, color='black')\n",
        "\n",
        "fpr, tpr, _ = roc_curve(y_val, y_pred_rf) #Randmom forest model\n",
        "plt.plot(fpr, tpr, color='grey', linestyle='dashed', alpha=0.9)\n",
        "\n",
        "fpr, tpr, _ = roc_curve(y_val, y_pred_dt) #Decision tree model\n",
        "plt.plot(fpr, tpr, color='grey', linestyle='dashed', alpha=0.9)\n",
        "\n",
        "plt.plot([0, 1], [0, 1], color='black', lw=0.7, linestyle='dashed', alpha=0.5)\n",
        "\n",
        "plt.xlim([-0.02, 1.02])\n",
        "plt.ylim([-0.02, 1.02])\n",
        "plt.xlabel('False Positive Rate')\n",
        "plt.ylabel('True Positive Rate')\n",
        "\n",
        "plt.title('ROC curve')\n",
        "\n",
        "plt.show()"
      ],
      "execution_count": null,
      "outputs": [
        {
          "output_type": "display_data",
          "data": {
            "image/png": "[encoded data removed]",
            "text/plain": [
              "<Figure size 360x360 with 1 Axes>"
            ]
          },
          "metadata": {
            "tags": [],
            "needs_background": "light"
          }
        }
      ]
    },
    {
      "cell_type": "markdown",
      "metadata": {
        "id": "honAya9Gg6LT"
      },
      "source": [
        "**Final test**"
      ]
    },
    {
      "cell_type": "code",
      "metadata": {
        "id": "ZPpXH4Kpg9WZ"
      },
      "source": [
        "#Notice that we are training the model on full training set that includes training and validation sets, as we dont need the validation dataset\n",
        "y_train_full = (df_train_full.status == 'default').values\n",
        "y_test = (df_test.status == 'default').values\n",
        "\n",
        "del df_train_full['status']\n",
        "del df_test['status']"
      ],
      "execution_count": null,
      "outputs": []
    },
    {
      "cell_type": "code",
      "metadata": {
        "id": "4t4YevRtjcgx"
      },
      "source": [
        "dict_train_full = df_train_full.fillna(0).to_dict(orient='records')\n",
        "dict_test = df_test.fillna(0).to_dict(orient='records')\n",
        "\n",
        "dv = DictVectorizer(sparse=False)\n",
        "X_train_full = dv.fit_transform(dict_train_full)\n",
        "X_test = dv.transform(dict_test)"
      ],
      "execution_count": null,
      "outputs": []
    },
    {
      "cell_type": "code",
      "metadata": {
        "id": "wfnJk8bikIu9"
      },
      "source": [
        "rf_final = RandomForestClassifier(n_estimators=200, max_depth=10, min_samples_leaf=5, random_state=1)\n",
        "rf_final.fit(X_train_full, y_train_full)\n",
        "\n",
        "y_pred_rf = rf.predict_proba(X_test)[:, 1]"
      ],
      "execution_count": null,
      "outputs": []
    },
    {
      "cell_type": "code",
      "metadata": {
        "id": "xsVH9VJtkWXm"
      },
      "source": [
        "dtrain_full = xgb.DMatrix(X_train_full, label=y_train_full, feature_names=dv.feature_names_)\n",
        "dtest = xgb.DMatrix(X_test, label=y_test, feature_names=dv.feature_names_)\n",
        "\n",
        "xgb_params = {\n",
        "    'eta': 0.1,\n",
        "    'max_depth': 3,\n",
        "    'min_child_weight': 1,\n",
        "\n",
        "    'objective': 'binary:logistic',\n",
        "    'eval_metric': 'auc',\n",
        "    'nthread': 8,\n",
        "    'seed': 1,\n",
        "}\n",
        "\n",
        "num_trees = 160\n",
        "\n",
        "xgb_final = xgb.train(xgb_params, dtrain_full, num_boost_round=num_trees)"
      ],
      "execution_count": null,
      "outputs": []
    },
    {
      "cell_type": "code",
      "metadata": {
        "id": "d0kCYpylkf-a"
      },
      "source": [
        "y_pred_xgb = xgb_final.predict(dtest)"
      ],
      "execution_count": null,
      "outputs": []
    },
    {
      "cell_type": "code",
      "metadata": {
        "colab": {
          "base_uri": "https://localhost:8080/"
        },
        "id": "e1LHVsc8kkV4",
        "outputId": "acf294fc-838c-4516-8b88-e8ac777d0546"
      },
      "source": [
        "print(roc_auc_score(y_test, y_pred_rf))\n",
        "print(roc_auc_score(y_test, y_pred_xgb))"
      ],
      "execution_count": null,
      "outputs": [
        {
          "output_type": "stream",
          "text": [
            "0.8241777039245393\n",
            "0.8322845901959826\n"
          ],
          "name": "stdout"
        }
      ]
    },
    {
      "cell_type": "markdown",
      "metadata": {
        "id": "AzntfQGox5od"
      },
      "source": [
        "# Feature Importance"
      ]
    },
    {
      "cell_type": "markdown",
      "metadata": {
        "id": "aKf9ogEJyWgV"
      },
      "source": [
        "**Decision trees**"
      ]
    },
    {
      "cell_type": "code",
      "metadata": {
        "colab": {
          "base_uri": "https://localhost:8080/"
        },
        "id": "de46m10_yiwy",
        "outputId": "8b67353a-c12c-47ed-e6e9-c107014d563f"
      },
      "source": [
        "dt.feature_importances_"
      ],
      "execution_count": null,
      "outputs": [
        {
          "output_type": "execute_result",
          "data": {
            "text/plain": [
              "array([0.01387723, 0.04793733, 0.1226385 , 0.00833288, 0.0250906 ,\n",
              "       0.        , 0.        , 0.        , 0.        , 0.        ,\n",
              "       0.        , 0.        , 0.18724799, 0.00699145, 0.        ,\n",
              "       0.        , 0.17292753, 0.        , 0.        , 0.        ,\n",
              "       0.        , 0.        , 0.        , 0.        , 0.0302163 ,\n",
              "       0.        , 0.24421676, 0.12152239, 0.01900104])"
            ]
          },
          "metadata": {
            "tags": []
          },
          "execution_count": 120
        }
      ]
    },
    {
      "cell_type": "code",
      "metadata": {
        "colab": {
          "base_uri": "https://localhost:8080/"
        },
        "id": "rqpCUeyMyA0F",
        "outputId": "cf259887-e754-4a57-8df1-be8844a2e268"
      },
      "source": [
        "list(zip(dv.feature_names_, dt.feature_importances_))"
      ],
      "execution_count": null,
      "outputs": [
        {
          "output_type": "execute_result",
          "data": {
            "text/plain": [
              "[('age', 0.013877231876069153),\n",
              " ('amount', 0.04793733336664824),\n",
              " ('assets', 0.12263850423922844),\n",
              " ('debt', 0.008332876385504902),\n",
              " ('expenses', 0.025090602575881322),\n",
              " ('home=ignore', 0.0),\n",
              " ('home=other', 0.0),\n",
              " ('home=owner', 0.0),\n",
              " ('home=parents', 0.0),\n",
              " ('home=private', 0.0),\n",
              " ('home=rent', 0.0),\n",
              " ('home=unk', 0.0),\n",
              " ('income', 0.18724798934476602),\n",
              " ('job=fixed', 0.006991445659436667),\n",
              " ('job=freelance', 0.0),\n",
              " ('job=others', 0.0),\n",
              " ('job=partime', 0.17292752964348085),\n",
              " ('job=unk', 0.0),\n",
              " ('marital=divorced', 0.0),\n",
              " ('marital=married', 0.0),\n",
              " ('marital=separated', 0.0),\n",
              " ('marital=single', 0.0),\n",
              " ('marital=unk', 0.0),\n",
              " ('marital=widow', 0.0),\n",
              " ('price', 0.030216298419676543),\n",
              " ('records=no', 0.0),\n",
              " ('records=yes', 0.24421675762093445),\n",
              " ('seniority', 0.12152238957522045),\n",
              " ('time', 0.019001041293152915)]"
            ]
          },
          "metadata": {
            "tags": []
          },
          "execution_count": 122
        }
      ]
    },
    {
      "cell_type": "code",
      "metadata": {
        "colab": {
          "base_uri": "https://localhost:8080/",
          "height": 958
        },
        "id": "KghewPbg6nWk",
        "outputId": "6d82d010-49b0-43f9-b080-642e1ab383aa"
      },
      "source": [
        "importances = list(zip(dv.feature_names_, dt.feature_importances_))\n",
        "\n",
        "df_importance = pd.DataFrame(importances, columns=['feature', 'gain']) #Note that the values of gain are calculated by feature_importances_() for each feature\n",
        "df_importance = df_importance.sort_values(by='gain', ascending=False)\n",
        "df_importance"
      ],
      "execution_count": null,
      "outputs": [
        {
          "output_type": "execute_result",
          "data": {
            "text/html": [
              "<div>\n",
              "<style scoped>\n",
              "    .dataframe tbody tr th:only-of-type {\n",
              "        vertical-align: middle;\n",
              "    }\n",
              "\n",
              "    .dataframe tbody tr th {\n",
              "        vertical-align: top;\n",
              "    }\n",
              "\n",
              "    .dataframe thead th {\n",
              "        text-align: right;\n",
              "    }\n",
              "</style>\n",
              "<table border=\"1\" class=\"dataframe\">\n",
              "  <thead>\n",
              "    <tr style=\"text-align: right;\">\n",
              "      <th></th>\n",
              "      <th>feature</th>\n",
              "      <th>gain</th>\n",
              "    </tr>\n",
              "  </thead>\n",
              "  <tbody>\n",
              "    <tr>\n",
              "      <th>26</th>\n",
              "      <td>records=yes</td>\n",
              "      <td>0.244217</td>\n",
              "    </tr>\n",
              "    <tr>\n",
              "      <th>12</th>\n",
              "      <td>income</td>\n",
              "      <td>0.187248</td>\n",
              "    </tr>\n",
              "    <tr>\n",
              "      <th>16</th>\n",
              "      <td>job=partime</td>\n",
              "      <td>0.172928</td>\n",
              "    </tr>\n",
              "    <tr>\n",
              "      <th>2</th>\n",
              "      <td>assets</td>\n",
              "      <td>0.122639</td>\n",
              "    </tr>\n",
              "    <tr>\n",
              "      <th>27</th>\n",
              "      <td>seniority</td>\n",
              "      <td>0.121522</td>\n",
              "    </tr>\n",
              "    <tr>\n",
              "      <th>1</th>\n",
              "      <td>amount</td>\n",
              "      <td>0.047937</td>\n",
              "    </tr>\n",
              "    <tr>\n",
              "      <th>24</th>\n",
              "      <td>price</td>\n",
              "      <td>0.030216</td>\n",
              "    </tr>\n",
              "    <tr>\n",
              "      <th>4</th>\n",
              "      <td>expenses</td>\n",
              "      <td>0.025091</td>\n",
              "    </tr>\n",
              "    <tr>\n",
              "      <th>28</th>\n",
              "      <td>time</td>\n",
              "      <td>0.019001</td>\n",
              "    </tr>\n",
              "    <tr>\n",
              "      <th>0</th>\n",
              "      <td>age</td>\n",
              "      <td>0.013877</td>\n",
              "    </tr>\n",
              "    <tr>\n",
              "      <th>3</th>\n",
              "      <td>debt</td>\n",
              "      <td>0.008333</td>\n",
              "    </tr>\n",
              "    <tr>\n",
              "      <th>13</th>\n",
              "      <td>job=fixed</td>\n",
              "      <td>0.006991</td>\n",
              "    </tr>\n",
              "    <tr>\n",
              "      <th>10</th>\n",
              "      <td>home=rent</td>\n",
              "      <td>0.000000</td>\n",
              "    </tr>\n",
              "    <tr>\n",
              "      <th>20</th>\n",
              "      <td>marital=separated</td>\n",
              "      <td>0.000000</td>\n",
              "    </tr>\n",
              "    <tr>\n",
              "      <th>5</th>\n",
              "      <td>home=ignore</td>\n",
              "      <td>0.000000</td>\n",
              "    </tr>\n",
              "    <tr>\n",
              "      <th>25</th>\n",
              "      <td>records=no</td>\n",
              "      <td>0.000000</td>\n",
              "    </tr>\n",
              "    <tr>\n",
              "      <th>6</th>\n",
              "      <td>home=other</td>\n",
              "      <td>0.000000</td>\n",
              "    </tr>\n",
              "    <tr>\n",
              "      <th>23</th>\n",
              "      <td>marital=widow</td>\n",
              "      <td>0.000000</td>\n",
              "    </tr>\n",
              "    <tr>\n",
              "      <th>22</th>\n",
              "      <td>marital=unk</td>\n",
              "      <td>0.000000</td>\n",
              "    </tr>\n",
              "    <tr>\n",
              "      <th>21</th>\n",
              "      <td>marital=single</td>\n",
              "      <td>0.000000</td>\n",
              "    </tr>\n",
              "    <tr>\n",
              "      <th>19</th>\n",
              "      <td>marital=married</td>\n",
              "      <td>0.000000</td>\n",
              "    </tr>\n",
              "    <tr>\n",
              "      <th>11</th>\n",
              "      <td>home=unk</td>\n",
              "      <td>0.000000</td>\n",
              "    </tr>\n",
              "    <tr>\n",
              "      <th>18</th>\n",
              "      <td>marital=divorced</td>\n",
              "      <td>0.000000</td>\n",
              "    </tr>\n",
              "    <tr>\n",
              "      <th>17</th>\n",
              "      <td>job=unk</td>\n",
              "      <td>0.000000</td>\n",
              "    </tr>\n",
              "    <tr>\n",
              "      <th>7</th>\n",
              "      <td>home=owner</td>\n",
              "      <td>0.000000</td>\n",
              "    </tr>\n",
              "    <tr>\n",
              "      <th>15</th>\n",
              "      <td>job=others</td>\n",
              "      <td>0.000000</td>\n",
              "    </tr>\n",
              "    <tr>\n",
              "      <th>8</th>\n",
              "      <td>home=parents</td>\n",
              "      <td>0.000000</td>\n",
              "    </tr>\n",
              "    <tr>\n",
              "      <th>9</th>\n",
              "      <td>home=private</td>\n",
              "      <td>0.000000</td>\n",
              "    </tr>\n",
              "    <tr>\n",
              "      <th>14</th>\n",
              "      <td>job=freelance</td>\n",
              "      <td>0.000000</td>\n",
              "    </tr>\n",
              "  </tbody>\n",
              "</table>\n",
              "</div>"
            ],
            "text/plain": [
              "              feature      gain\n",
              "26        records=yes  0.244217\n",
              "12             income  0.187248\n",
              "16        job=partime  0.172928\n",
              "2              assets  0.122639\n",
              "27          seniority  0.121522\n",
              "1              amount  0.047937\n",
              "24              price  0.030216\n",
              "4            expenses  0.025091\n",
              "28               time  0.019001\n",
              "0                 age  0.013877\n",
              "3                debt  0.008333\n",
              "13          job=fixed  0.006991\n",
              "10          home=rent  0.000000\n",
              "20  marital=separated  0.000000\n",
              "5         home=ignore  0.000000\n",
              "25         records=no  0.000000\n",
              "6          home=other  0.000000\n",
              "23      marital=widow  0.000000\n",
              "22        marital=unk  0.000000\n",
              "21     marital=single  0.000000\n",
              "19    marital=married  0.000000\n",
              "11           home=unk  0.000000\n",
              "18   marital=divorced  0.000000\n",
              "17            job=unk  0.000000\n",
              "7          home=owner  0.000000\n",
              "15         job=others  0.000000\n",
              "8        home=parents  0.000000\n",
              "9        home=private  0.000000\n",
              "14      job=freelance  0.000000"
            ]
          },
          "metadata": {
            "tags": []
          },
          "execution_count": 123
        }
      ]
    },
    {
      "cell_type": "code",
      "metadata": {
        "id": "0MrPcGxd709W"
      },
      "source": [
        "df_importance = df_importance[df_importance.gain > 0]"
      ],
      "execution_count": null,
      "outputs": []
    },
    {
      "cell_type": "code",
      "metadata": {
        "colab": {
          "base_uri": "https://localhost:8080/"
        },
        "id": "VAj5-IAO99KF",
        "outputId": "1bcea877-c003-46bb-ec8d-956a009d9816"
      },
      "source": [
        "df_importance.gain"
      ],
      "execution_count": null,
      "outputs": [
        {
          "output_type": "execute_result",
          "data": {
            "text/plain": [
              "26    0.244217\n",
              "12    0.187248\n",
              "16    0.172928\n",
              "2     0.122639\n",
              "27    0.121522\n",
              "1     0.047937\n",
              "24    0.030216\n",
              "4     0.025091\n",
              "28    0.019001\n",
              "0     0.013877\n",
              "3     0.008333\n",
              "13    0.006991\n",
              "Name: gain, dtype: float64"
            ]
          },
          "metadata": {
            "tags": []
          },
          "execution_count": 126
        }
      ]
    },
    {
      "cell_type": "code",
      "metadata": {
        "colab": {
          "base_uri": "https://localhost:8080/"
        },
        "id": "0pSpwems-Gs1",
        "outputId": "3e55edfc-67d8-43b4-f6e6-2ac9cb5ad263"
      },
      "source": [
        "df_importance.gain[::-1] #Note that this syntax just reverses the list"
      ],
      "execution_count": null,
      "outputs": [
        {
          "output_type": "execute_result",
          "data": {
            "text/plain": [
              "13    0.006991\n",
              "3     0.008333\n",
              "0     0.013877\n",
              "28    0.019001\n",
              "4     0.025091\n",
              "24    0.030216\n",
              "1     0.047937\n",
              "27    0.121522\n",
              "2     0.122639\n",
              "16    0.172928\n",
              "12    0.187248\n",
              "26    0.244217\n",
              "Name: gain, dtype: float64"
            ]
          },
          "metadata": {
            "tags": []
          },
          "execution_count": 127
        }
      ]
    },
    {
      "cell_type": "code",
      "metadata": {
        "colab": {
          "base_uri": "https://localhost:8080/",
          "height": 265
        },
        "id": "7kaWunlW76cd",
        "outputId": "ab6f5625-2462-4528-c5ea-1136bb4b8bf1"
      },
      "source": [
        "num = len(df_importance)\n",
        "plt.barh(range(num), df_importance.gain[::-1]) #Reverse the list\n",
        "plt.yticks(range(num), df_importance.feature[::-1]) #Reverse the list\n",
        "\n",
        "plt.show()"
      ],
      "execution_count": null,
      "outputs": [
        {
          "output_type": "display_data",
          "data": {
            "image/png": "[encoded data removed]",
            "text/plain": [
              "<Figure size 432x288 with 1 Axes>"
            ]
          },
          "metadata": {
            "tags": [],
            "needs_background": "light"
          }
        }
      ]
    },
    {
      "cell_type": "markdown",
      "metadata": {
        "id": "V4Meb4UWBJ_a"
      },
      "source": [
        "**Random forest**"
      ]
    },
    {
      "cell_type": "code",
      "metadata": {
        "colab": {
          "base_uri": "https://localhost:8080/"
        },
        "id": "mw3aYYV5BL9b",
        "outputId": "0e755875-3254-4ea0-bb5d-a7bc12ea655c"
      },
      "source": [
        "rf.feature_importances_"
      ],
      "execution_count": null,
      "outputs": [
        {
          "output_type": "execute_result",
          "data": {
            "text/plain": [
              "array([5.81509463e-02, 8.42444361e-02, 7.75901403e-02, 1.33739427e-02,\n",
              "       3.62995916e-02, 1.26998064e-06, 5.25854792e-03, 2.57383446e-02,\n",
              "       8.51497558e-03, 3.24437831e-03, 1.44619658e-02, 0.00000000e+00,\n",
              "       1.50682384e-01, 4.78310889e-02, 9.96408243e-03, 2.85512508e-03,\n",
              "       5.65260797e-02, 0.00000000e+00, 2.43128646e-04, 6.42996557e-03,\n",
              "       1.68784119e-03, 6.67458246e-03, 0.00000000e+00, 1.97498337e-04,\n",
              "       6.62193254e-02, 8.41683921e-02, 8.30420483e-02, 1.25453198e-01,\n",
              "       3.11467205e-02])"
            ]
          },
          "metadata": {
            "tags": []
          },
          "execution_count": 128
        }
      ]
    },
    {
      "cell_type": "code",
      "metadata": {
        "colab": {
          "base_uri": "https://localhost:8080/",
          "height": 958
        },
        "id": "yPtEiHaMBuMA",
        "outputId": "e85024af-c9c8-49bd-c306-d7d6fadd9214"
      },
      "source": [
        "importances = list(zip(dv.feature_names_, rf.feature_importances_))\n",
        "\n",
        "df_importance = pd.DataFrame(importances, columns=['feature', 'gain'])\n",
        "df_importance = df_importance.sort_values(by='gain', ascending=False)\n",
        "df_importance"
      ],
      "execution_count": null,
      "outputs": [
        {
          "output_type": "execute_result",
          "data": {
            "text/html": [
              "<div>\n",
              "<style scoped>\n",
              "    .dataframe tbody tr th:only-of-type {\n",
              "        vertical-align: middle;\n",
              "    }\n",
              "\n",
              "    .dataframe tbody tr th {\n",
              "        vertical-align: top;\n",
              "    }\n",
              "\n",
              "    .dataframe thead th {\n",
              "        text-align: right;\n",
              "    }\n",
              "</style>\n",
              "<table border=\"1\" class=\"dataframe\">\n",
              "  <thead>\n",
              "    <tr style=\"text-align: right;\">\n",
              "      <th></th>\n",
              "      <th>feature</th>\n",
              "      <th>gain</th>\n",
              "    </tr>\n",
              "  </thead>\n",
              "  <tbody>\n",
              "    <tr>\n",
              "      <th>12</th>\n",
              "      <td>income</td>\n",
              "      <td>0.150682</td>\n",
              "    </tr>\n",
              "    <tr>\n",
              "      <th>27</th>\n",
              "      <td>seniority</td>\n",
              "      <td>0.125453</td>\n",
              "    </tr>\n",
              "    <tr>\n",
              "      <th>1</th>\n",
              "      <td>amount</td>\n",
              "      <td>0.084244</td>\n",
              "    </tr>\n",
              "    <tr>\n",
              "      <th>25</th>\n",
              "      <td>records=no</td>\n",
              "      <td>0.084168</td>\n",
              "    </tr>\n",
              "    <tr>\n",
              "      <th>26</th>\n",
              "      <td>records=yes</td>\n",
              "      <td>0.083042</td>\n",
              "    </tr>\n",
              "    <tr>\n",
              "      <th>2</th>\n",
              "      <td>assets</td>\n",
              "      <td>0.077590</td>\n",
              "    </tr>\n",
              "    <tr>\n",
              "      <th>24</th>\n",
              "      <td>price</td>\n",
              "      <td>0.066219</td>\n",
              "    </tr>\n",
              "    <tr>\n",
              "      <th>0</th>\n",
              "      <td>age</td>\n",
              "      <td>0.058151</td>\n",
              "    </tr>\n",
              "    <tr>\n",
              "      <th>16</th>\n",
              "      <td>job=partime</td>\n",
              "      <td>0.056526</td>\n",
              "    </tr>\n",
              "    <tr>\n",
              "      <th>13</th>\n",
              "      <td>job=fixed</td>\n",
              "      <td>0.047831</td>\n",
              "    </tr>\n",
              "    <tr>\n",
              "      <th>4</th>\n",
              "      <td>expenses</td>\n",
              "      <td>0.036300</td>\n",
              "    </tr>\n",
              "    <tr>\n",
              "      <th>28</th>\n",
              "      <td>time</td>\n",
              "      <td>0.031147</td>\n",
              "    </tr>\n",
              "    <tr>\n",
              "      <th>7</th>\n",
              "      <td>home=owner</td>\n",
              "      <td>0.025738</td>\n",
              "    </tr>\n",
              "    <tr>\n",
              "      <th>10</th>\n",
              "      <td>home=rent</td>\n",
              "      <td>0.014462</td>\n",
              "    </tr>\n",
              "    <tr>\n",
              "      <th>3</th>\n",
              "      <td>debt</td>\n",
              "      <td>0.013374</td>\n",
              "    </tr>\n",
              "    <tr>\n",
              "      <th>14</th>\n",
              "      <td>job=freelance</td>\n",
              "      <td>0.009964</td>\n",
              "    </tr>\n",
              "    <tr>\n",
              "      <th>8</th>\n",
              "      <td>home=parents</td>\n",
              "      <td>0.008515</td>\n",
              "    </tr>\n",
              "    <tr>\n",
              "      <th>21</th>\n",
              "      <td>marital=single</td>\n",
              "      <td>0.006675</td>\n",
              "    </tr>\n",
              "    <tr>\n",
              "      <th>19</th>\n",
              "      <td>marital=married</td>\n",
              "      <td>0.006430</td>\n",
              "    </tr>\n",
              "    <tr>\n",
              "      <th>6</th>\n",
              "      <td>home=other</td>\n",
              "      <td>0.005259</td>\n",
              "    </tr>\n",
              "    <tr>\n",
              "      <th>9</th>\n",
              "      <td>home=private</td>\n",
              "      <td>0.003244</td>\n",
              "    </tr>\n",
              "    <tr>\n",
              "      <th>15</th>\n",
              "      <td>job=others</td>\n",
              "      <td>0.002855</td>\n",
              "    </tr>\n",
              "    <tr>\n",
              "      <th>20</th>\n",
              "      <td>marital=separated</td>\n",
              "      <td>0.001688</td>\n",
              "    </tr>\n",
              "    <tr>\n",
              "      <th>18</th>\n",
              "      <td>marital=divorced</td>\n",
              "      <td>0.000243</td>\n",
              "    </tr>\n",
              "    <tr>\n",
              "      <th>23</th>\n",
              "      <td>marital=widow</td>\n",
              "      <td>0.000197</td>\n",
              "    </tr>\n",
              "    <tr>\n",
              "      <th>5</th>\n",
              "      <td>home=ignore</td>\n",
              "      <td>0.000001</td>\n",
              "    </tr>\n",
              "    <tr>\n",
              "      <th>22</th>\n",
              "      <td>marital=unk</td>\n",
              "      <td>0.000000</td>\n",
              "    </tr>\n",
              "    <tr>\n",
              "      <th>17</th>\n",
              "      <td>job=unk</td>\n",
              "      <td>0.000000</td>\n",
              "    </tr>\n",
              "    <tr>\n",
              "      <th>11</th>\n",
              "      <td>home=unk</td>\n",
              "      <td>0.000000</td>\n",
              "    </tr>\n",
              "  </tbody>\n",
              "</table>\n",
              "</div>"
            ],
            "text/plain": [
              "              feature      gain\n",
              "12             income  0.150682\n",
              "27          seniority  0.125453\n",
              "1              amount  0.084244\n",
              "25         records=no  0.084168\n",
              "26        records=yes  0.083042\n",
              "2              assets  0.077590\n",
              "24              price  0.066219\n",
              "0                 age  0.058151\n",
              "16        job=partime  0.056526\n",
              "13          job=fixed  0.047831\n",
              "4            expenses  0.036300\n",
              "28               time  0.031147\n",
              "7          home=owner  0.025738\n",
              "10          home=rent  0.014462\n",
              "3                debt  0.013374\n",
              "14      job=freelance  0.009964\n",
              "8        home=parents  0.008515\n",
              "21     marital=single  0.006675\n",
              "19    marital=married  0.006430\n",
              "6          home=other  0.005259\n",
              "9        home=private  0.003244\n",
              "15         job=others  0.002855\n",
              "20  marital=separated  0.001688\n",
              "18   marital=divorced  0.000243\n",
              "23      marital=widow  0.000197\n",
              "5         home=ignore  0.000001\n",
              "22        marital=unk  0.000000\n",
              "17            job=unk  0.000000\n",
              "11           home=unk  0.000000"
            ]
          },
          "metadata": {
            "tags": []
          },
          "execution_count": 129
        }
      ]
    },
    {
      "cell_type": "code",
      "metadata": {
        "id": "-sDAN6IBHiRE"
      },
      "source": [
        "df_importance = df_importance[df_importance.gain > 0.01]"
      ],
      "execution_count": null,
      "outputs": []
    },
    {
      "cell_type": "code",
      "metadata": {
        "colab": {
          "base_uri": "https://localhost:8080/",
          "height": 265
        },
        "id": "vu5nNDA1Hmjq",
        "outputId": "90a07e00-6715-49a3-bfd4-722aedeb7da5"
      },
      "source": [
        "num = len(df_importance)\n",
        "plt.barh(range(num), df_importance.gain[::-1])\n",
        "plt.yticks(range(num), df_importance.feature[::-1])\n",
        "\n",
        "plt.show()"
      ],
      "execution_count": null,
      "outputs": [
        {
          "output_type": "display_data",
          "data": {
            "image/png": "[encoded data removed]",
            "text/plain": [
              "<Figure size 432x288 with 1 Axes>"
            ]
          },
          "metadata": {
            "tags": [],
            "needs_background": "light"
          }
        }
      ]
    },
    {
      "cell_type": "markdown",
      "metadata": {
        "id": "3ygypzsvHtFS"
      },
      "source": [
        "**XGBoost**"
      ]
    },
    {
      "cell_type": "code",
      "metadata": {
        "colab": {
          "base_uri": "https://localhost:8080/"
        },
        "id": "SCKktL-lHu-T",
        "outputId": "75e22f59-d511-4fb6-ff8c-a69aee91c9ac"
      },
      "source": [
        "scores = model.get_score(importance_type='gain') #Returs a feature/gain key/value pair dictionary\n",
        "scores = sorted(scores.items(), key=lambda x: x[1]) #items() just returns the \"scores\" dictionay's key/value pairs (See: https://www.w3schools.com/python/ref_dictionary_items.asp) and we sort them by item [1] i.e., value\n",
        "list(reversed(scores))"
      ],
      "execution_count": null,
      "outputs": [
        {
          "output_type": "execute_result",
          "data": {
            "text/plain": [
              "[('records=no', 20.205886174933337),\n",
              " ('job=partime', 19.571840249333327),\n",
              " ('job=fixed', 14.703467482368419),\n",
              " ('home=owner', 12.168287986666668),\n",
              " ('seniority', 10.93204644173191),\n",
              " ('income', 8.676314024586466),\n",
              " ('assets', 5.918307806556342),\n",
              " ('amount', 5.400780562827161),\n",
              " ('time', 5.0175909627586215),\n",
              " ('home=parents', 4.499092019090908),\n",
              " ('home=rent', 4.028717651875),\n",
              " ('price', 3.7946846306606075),\n",
              " ('expenses', 3.589669993872826),\n",
              " ('age', 3.318183602467891),\n",
              " ('debt', 2.9418528487777773),\n",
              " ('marital=separated', 2.641880279076923),\n",
              " ('home=private', 2.4620430769999997),\n",
              " ('marital=married', 2.427789335636364),\n",
              " ('home=other', 2.3016982833333333),\n",
              " ('job=freelance', 2.25929752),\n",
              " ('job=others', 1.61876595),\n",
              " ('home=ignore', 0.7887506362000001)]"
            ]
          },
          "metadata": {
            "tags": []
          },
          "execution_count": 135
        }
      ]
    },
    {
      "cell_type": "code",
      "metadata": {
        "colab": {
          "base_uri": "https://localhost:8080/"
        },
        "id": "y2wzvEWIN1fV",
        "outputId": "f078e590-41c0-43ad-decb-f28d3fabff6b"
      },
      "source": [
        "scores = model.get_score(importance_type='weight')\n",
        "scores = sorted(scores.items(), key=lambda x: x[1])\n",
        "list(reversed(scores))"
      ],
      "execution_count": null,
      "outputs": [
        {
          "output_type": "execute_result",
          "data": {
            "text/plain": [
              "[('price', 165),\n",
              " ('amount', 162),\n",
              " ('assets', 142),\n",
              " ('income', 133),\n",
              " ('seniority', 119),\n",
              " ('age', 109),\n",
              " ('expenses', 92),\n",
              " ('debt', 63),\n",
              " ('records=no', 60),\n",
              " ('time', 29),\n",
              " ('home=parents', 22),\n",
              " ('job=partime', 21),\n",
              " ('job=fixed', 19),\n",
              " ('marital=separated', 13),\n",
              " ('home=private', 12),\n",
              " ('marital=married', 11),\n",
              " ('home=rent', 8),\n",
              " ('home=owner', 6),\n",
              " ('home=ignore', 5),\n",
              " ('job=freelance', 4),\n",
              " ('home=other', 3),\n",
              " ('job=others', 1)]"
            ]
          },
          "metadata": {
            "tags": []
          },
          "execution_count": 136
        }
      ]
    },
    {
      "cell_type": "code",
      "metadata": {
        "id": "28kU0CJrN84s"
      },
      "source": [
        "names = [n for (n, s) in scores]\n",
        "scores = [s for (n, s) in scores]"
      ],
      "execution_count": null,
      "outputs": []
    },
    {
      "cell_type": "code",
      "metadata": {
        "colab": {
          "base_uri": "https://localhost:8080/",
          "height": 483
        },
        "id": "uBvSKoy-ODgY",
        "outputId": "a4158020-917a-41fa-cf86-ef5689f7cf57"
      },
      "source": [
        "plt.figure(figsize=(6, 8))\n",
        "\n",
        "plt.barh(np.arange(len(scores)), scores)\n",
        "plt.yticks(np.arange(len(names)), names)\n",
        "\n",
        "plt.show()"
      ],
      "execution_count": null,
      "outputs": [
        {
          "output_type": "display_data",
          "data": {
            "image/png": "[encoded data removed]",
            "text/plain": [
              "<Figure size 432x576 with 1 Axes>"
            ]
          },
          "metadata": {
            "tags": [],
            "needs_background": "light"
          }
        }
      ]
    },
    {
      "cell_type": "markdown",
      "metadata": {
        "id": "W_cRo7QhOXWC"
      },
      "source": [
        "# Extremely randomized trees"
      ]
    },
    {
      "cell_type": "markdown",
      "metadata": {
        "id": "6DjsIvPjOvnj"
      },
      "source": [
        "Picks a few candidate splits at random and then select the best one among them"
      ]
    },
    {
      "cell_type": "code",
      "metadata": {
        "id": "Tn2DYrsOOZ5-"
      },
      "source": [
        "from sklearn.ensemble import ExtraTreesClassifier"
      ],
      "execution_count": null,
      "outputs": []
    },
    {
      "cell_type": "code",
      "metadata": {
        "colab": {
          "base_uri": "https://localhost:8080/"
        },
        "id": "Mhmo1sVcO79G",
        "outputId": "dc9ca07d-339d-46a2-d23e-cc8092f8f332"
      },
      "source": [
        "aucs = []\n",
        "\n",
        "for i in range(10, 201, 10):\n",
        "    rf = ExtraTreesClassifier(n_estimators=i, max_depth=30)\n",
        "    rf.fit(X_train, y_train)\n",
        "    y_pred = rf.predict_proba(X_val)[:, 1]\n",
        "    auc = roc_auc_score(y_val, y_pred)\n",
        "    print('%s -> %.3f' % (i, auc))\n",
        "    aucs.append(auc)"
      ],
      "execution_count": null,
      "outputs": [
        {
          "output_type": "stream",
          "text": [
            "10 -> 0.771\n",
            "20 -> 0.784\n",
            "30 -> 0.784\n",
            "40 -> 0.795\n",
            "50 -> 0.797\n",
            "60 -> 0.792\n",
            "70 -> 0.796\n",
            "80 -> 0.793\n",
            "90 -> 0.793\n",
            "100 -> 0.793\n",
            "110 -> 0.796\n",
            "120 -> 0.793\n",
            "130 -> 0.799\n",
            "140 -> 0.797\n",
            "150 -> 0.793\n",
            "160 -> 0.794\n",
            "170 -> 0.795\n",
            "180 -> 0.795\n",
            "190 -> 0.798\n",
            "200 -> 0.791\n"
          ],
          "name": "stdout"
        }
      ]
    }
  ]
}